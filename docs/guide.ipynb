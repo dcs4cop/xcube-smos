{
 "cells": [
  {
   "cell_type": "markdown",
   "id": "519c8ef3-0e4a-4de7-8e7c-1e80c3ed2393",
   "metadata": {},
   "source": [
    "# User Guide\n",
    "\n",
    "The SMOS data store is an xcube plugin that provides SMOS datasets\n",
    "through the xcube data store interface. You first obtain an instance\n",
    "of the SMOS data store, then you use this store instance to retrieve \n",
    "customised SMOS datasets tailored to your needs."
   ]
  },
  {
   "cell_type": "markdown",
   "id": "b5e39056-37ac-4d35-9c77-d92790abdf04",
   "metadata": {},
   "source": [
    "## Obtaining the Data Store\n",
    "\n",
    "After [installation](start.md#installation) and once you have your \n",
    "[credentials](start.md#credentials) at hand, you can obtain an instance \n",
    "of the SMOS data store by its name `\"smos\"` and using the xcube function \n",
    "`new_data_store()` function. (Many other xcube data stores can be used in \n",
    "the same way, refer to the [xcube documentation](TODO) for more information). "
   ]
  },
  {
   "cell_type": "markdown",
   "id": "647807bb-7651-4f37-a578-7e197676e8d1",
   "metadata": {},
   "source": [
    "The following call assumes that the environment variables `CREODIAS_S3_KEY` \n",
    "and `CREODIAS_S3_SECRET` have been set:"
   ]
  },
  {
   "cell_type": "code",
   "execution_count": 9,
   "id": "1bde117b-7f1a-4fda-940b-cf9191787513",
   "metadata": {},
   "outputs": [],
   "source": [
    "from xcube.core.store import new_data_store\n",
    "\n",
    "smos_store = new_data_store(\"smos\")"
   ]
  },
  {
   "cell_type": "markdown",
   "id": "750f6441-3997-4fa8-892d-c66828e0ad55",
   "metadata": {},
   "source": [
    "## Data Store Parameters\n",
    "\n",
    "The data store parameters you can pass to the `new_data_store()` function depend on the\n",
    "data store identifier used. For the data store named  `\"smos\"` the following arguments\n",
    "can be provided:\n",
    "\n",
    "* `source_path`: _str_ - Path or URL into SMOS archive filesystem. \n",
    "* `source_protocol`: _str_ - Protocol name for the SMOS archive filesystem. \n",
    "* `source_storage_options`: _dict_ - Storage options for the SMOS archive filesystem. \n",
    "* `cache_path`: _str_ - Path to local cache directory. Must be given, if file caching is desired. \n",
    "* `xarray_kwargs`: _dict_ - Extra keyword arguments accepted by xarray.open_dataset. \n",
    "* `**source_storage_options_kwargs` - keyword-argument form of `source_storage_options` \n",
    "\n",
    "Because of `**source_storage_options_kwargs` we can pass storage options directly to the\n",
    "`new_data_store()` call, such as:\n",
    "\n",
    "* `key`: _str_ - Access key identifier for the CREODIAS storage,\n",
    "  defaults to value of environment variable `CREODIAS_S3_KEY`.\n",
    "* `secret`: _str_ - Secret access key for the CREODIAS storage,\n",
    "  defaults to value of environment variable `CREODIAS_S3_SECRET`."
   ]
  },
  {
   "cell_type": "markdown",
   "id": "5abc5ccd-9eff-4cf5-83f2-418324039c5e",
   "metadata": {},
   "source": [
    "## Data Access\n",
    "\n",
    "All xcube data stores provide a `open_data()` method to access the data.\n",
    "It has one required positional argument `data_id` which identifies the\n",
    "data(set) to be opened. The SMOS store provides two datasets, they are\n",
    "\n",
    "* `\"SMOS-L2C-SM\"` - SMOS Level-2C Soil Moisture\n",
    "* `\"SMOS-L2C-OS\"` - SMOS Level-2C Ocean Salinity\n",
    "\n",
    "The SMOS data store also requires another argument `time_range` that \n",
    "specifies temporal coverage as start/stop dates, here just 2 days:"
   ]
  },
  {
   "cell_type": "code",
   "execution_count": 10,
   "id": "c5019e6a-d718-421d-a5fe-b896560bf92e",
   "metadata": {},
   "outputs": [
    {
     "ename": "PermissionError",
     "evalue": "Forbidden",
     "output_type": "error",
     "traceback": [
      "\u001b[1;31m---------------------------------------------------------------------------\u001b[0m",
      "\u001b[1;31mClientError\u001b[0m                               Traceback (most recent call last)",
      "File \u001b[1;32m~\\miniconda3\\envs\\xcube\\Lib\\site-packages\\s3fs\\core.py:706\u001b[0m, in \u001b[0;36mS3FileSystem._lsdir\u001b[1;34m(self, path, refresh, max_items, delimiter, prefix, versions)\u001b[0m\n\u001b[0;32m    705\u001b[0m files \u001b[38;5;241m=\u001b[39m []\n\u001b[1;32m--> 706\u001b[0m \u001b[38;5;28;01masync\u001b[39;00m \u001b[38;5;28;01mfor\u001b[39;00m c \u001b[38;5;129;01min\u001b[39;00m \u001b[38;5;28mself\u001b[39m\u001b[38;5;241m.\u001b[39m_iterdir(\n\u001b[0;32m    707\u001b[0m     bucket,\n\u001b[0;32m    708\u001b[0m     max_items\u001b[38;5;241m=\u001b[39mmax_items,\n\u001b[0;32m    709\u001b[0m     delimiter\u001b[38;5;241m=\u001b[39mdelimiter,\n\u001b[0;32m    710\u001b[0m     prefix\u001b[38;5;241m=\u001b[39mprefix,\n\u001b[0;32m    711\u001b[0m     versions\u001b[38;5;241m=\u001b[39mversions,\n\u001b[0;32m    712\u001b[0m ):\n\u001b[0;32m    713\u001b[0m     \u001b[38;5;28;01mif\u001b[39;00m c[\u001b[38;5;124m\"\u001b[39m\u001b[38;5;124mtype\u001b[39m\u001b[38;5;124m\"\u001b[39m] \u001b[38;5;241m==\u001b[39m \u001b[38;5;124m\"\u001b[39m\u001b[38;5;124mdirectory\u001b[39m\u001b[38;5;124m\"\u001b[39m:\n",
      "File \u001b[1;32m~\\miniconda3\\envs\\xcube\\Lib\\site-packages\\s3fs\\core.py:756\u001b[0m, in \u001b[0;36mS3FileSystem._iterdir\u001b[1;34m(self, bucket, max_items, delimiter, prefix, versions)\u001b[0m\n\u001b[0;32m    749\u001b[0m it \u001b[38;5;241m=\u001b[39m pag\u001b[38;5;241m.\u001b[39mpaginate(\n\u001b[0;32m    750\u001b[0m     Bucket\u001b[38;5;241m=\u001b[39mbucket,\n\u001b[0;32m    751\u001b[0m     Prefix\u001b[38;5;241m=\u001b[39mprefix,\n\u001b[1;32m   (...)\u001b[0m\n\u001b[0;32m    754\u001b[0m     \u001b[38;5;241m*\u001b[39m\u001b[38;5;241m*\u001b[39m\u001b[38;5;28mself\u001b[39m\u001b[38;5;241m.\u001b[39mreq_kw,\n\u001b[0;32m    755\u001b[0m )\n\u001b[1;32m--> 756\u001b[0m \u001b[38;5;28;01masync\u001b[39;00m \u001b[38;5;28;01mfor\u001b[39;00m i \u001b[38;5;129;01min\u001b[39;00m it:\n\u001b[0;32m    757\u001b[0m     \u001b[38;5;28;01mfor\u001b[39;00m l \u001b[38;5;129;01min\u001b[39;00m i\u001b[38;5;241m.\u001b[39mget(\u001b[38;5;124m\"\u001b[39m\u001b[38;5;124mCommonPrefixes\u001b[39m\u001b[38;5;124m\"\u001b[39m, []):\n",
      "File \u001b[1;32m~\\miniconda3\\envs\\xcube\\Lib\\site-packages\\aiobotocore\\paginate.py:30\u001b[0m, in \u001b[0;36mAioPageIterator.__anext__\u001b[1;34m(self)\u001b[0m\n\u001b[0;32m     29\u001b[0m \u001b[38;5;28;01mwhile\u001b[39;00m \u001b[38;5;28;01mTrue\u001b[39;00m:\n\u001b[1;32m---> 30\u001b[0m     response \u001b[38;5;241m=\u001b[39m \u001b[38;5;28;01mawait\u001b[39;00m \u001b[38;5;28mself\u001b[39m\u001b[38;5;241m.\u001b[39m_make_request(current_kwargs)\n\u001b[0;32m     31\u001b[0m     parsed \u001b[38;5;241m=\u001b[39m \u001b[38;5;28mself\u001b[39m\u001b[38;5;241m.\u001b[39m_extract_parsed_response(response)\n",
      "File \u001b[1;32m~\\miniconda3\\envs\\xcube\\Lib\\site-packages\\aiobotocore\\client.py:383\u001b[0m, in \u001b[0;36mAioBaseClient._make_api_call\u001b[1;34m(self, operation_name, api_params)\u001b[0m\n\u001b[0;32m    382\u001b[0m     error_class \u001b[38;5;241m=\u001b[39m \u001b[38;5;28mself\u001b[39m\u001b[38;5;241m.\u001b[39mexceptions\u001b[38;5;241m.\u001b[39mfrom_code(error_code)\n\u001b[1;32m--> 383\u001b[0m     \u001b[38;5;28;01mraise\u001b[39;00m error_class(parsed_response, operation_name)\n\u001b[0;32m    384\u001b[0m \u001b[38;5;28;01melse\u001b[39;00m:\n",
      "\u001b[1;31mClientError\u001b[0m: An error occurred (403) when calling the ListObjectsV2 operation: Forbidden",
      "\nThe above exception was the direct cause of the following exception:\n",
      "\u001b[1;31mPermissionError\u001b[0m                           Traceback (most recent call last)",
      "Cell \u001b[1;32mIn[10], line 1\u001b[0m\n\u001b[1;32m----> 1\u001b[0m sm_cube \u001b[38;5;241m=\u001b[39m \u001b[43mstore\u001b[49m\u001b[38;5;241;43m.\u001b[39;49m\u001b[43mopen_data\u001b[49m\u001b[43m(\u001b[49m\u001b[38;5;124;43m\"\u001b[39;49m\u001b[38;5;124;43mSMOS-L2C-SM\u001b[39;49m\u001b[38;5;124;43m\"\u001b[39;49m\u001b[43m,\u001b[49m\u001b[43m \u001b[49m\n\u001b[0;32m      2\u001b[0m \u001b[43m                          \u001b[49m\u001b[43mtime_range\u001b[49m\u001b[38;5;241;43m=\u001b[39;49m\u001b[43m[\u001b[49m\u001b[38;5;124;43m\"\u001b[39;49m\u001b[38;5;124;43m2024-01-01\u001b[39;49m\u001b[38;5;124;43m\"\u001b[39;49m\u001b[43m,\u001b[49m\u001b[43m \u001b[49m\u001b[38;5;124;43m\"\u001b[39;49m\u001b[38;5;124;43m2024-01-02\u001b[39;49m\u001b[38;5;124;43m\"\u001b[39;49m\u001b[43m]\u001b[49m\u001b[43m)\u001b[49m\n\u001b[0;32m      3\u001b[0m sm_cube\n",
      "File \u001b[1;32mc:\\users\\norma\\projects\\xcube-smos\\xcube_smos\\store.py:261\u001b[0m, in \u001b[0;36mSmosDataStore.open_data\u001b[1;34m(self, data_id, opener_id, **open_params)\u001b[0m\n\u001b[0;32m    259\u001b[0m     \u001b[38;5;28;01mreturn\u001b[39;00m ml_dataset\n\u001b[0;32m    260\u001b[0m \u001b[38;5;28;01melse\u001b[39;00m:\n\u001b[1;32m--> 261\u001b[0m     \u001b[38;5;28;01mreturn\u001b[39;00m \u001b[43mml_dataset\u001b[49m\u001b[38;5;241;43m.\u001b[39;49m\u001b[43mget_dataset\u001b[49m\u001b[43m(\u001b[49m\u001b[43mres_level\u001b[49m\u001b[43m)\u001b[49m\n",
      "File \u001b[1;32mc:\\users\\norma\\projects\\xcube\\xcube\\core\\mldataset\\lazy.py:102\u001b[0m, in \u001b[0;36mget_dataset\u001b[1;34m(self, index)\u001b[0m\n\u001b[0;32m     96\u001b[0m \u001b[38;5;250m\u001b[39m\u001b[38;5;124;03m\"\"\"Get or compute the dataset for the level at given *index*.\u001b[39;00m\n\u001b[0;32m     97\u001b[0m \n\u001b[0;32m     98\u001b[0m \u001b[38;5;124;03m:param index: the level index\u001b[39;00m\n\u001b[0;32m     99\u001b[0m \u001b[38;5;124;03m:return: the dataset for the level at *index*.\u001b[39;00m\n\u001b[0;32m    100\u001b[0m \u001b[38;5;124;03m\"\"\"\u001b[39;00m\n\u001b[0;32m    101\u001b[0m \u001b[38;5;28;01mif\u001b[39;00m index \u001b[38;5;129;01mnot\u001b[39;00m \u001b[38;5;129;01min\u001b[39;00m \u001b[38;5;28mself\u001b[39m\u001b[38;5;241m.\u001b[39m_level_datasets:\n\u001b[1;32m--> 102\u001b[0m     \u001b[38;5;28;01mwith\u001b[39;00m \u001b[38;5;28mself\u001b[39m\u001b[38;5;241m.\u001b[39m_lock:\n\u001b[0;32m    103\u001b[0m         \u001b[38;5;66;03m# noinspection PyTypeChecker\u001b[39;00m\n\u001b[0;32m    104\u001b[0m         level_dataset \u001b[38;5;241m=\u001b[39m \u001b[38;5;28mself\u001b[39m\u001b[38;5;241m.\u001b[39m_get_dataset_lazily(index, \u001b[38;5;28mself\u001b[39m\u001b[38;5;241m.\u001b[39m_parameters)\n\u001b[0;32m    105\u001b[0m         \u001b[38;5;28mself\u001b[39m\u001b[38;5;241m.\u001b[39mset_dataset(index, level_dataset)\n",
      "File \u001b[1;32mc:\\users\\norma\\projects\\xcube-smos\\xcube_smos\\mldataset\\l2cube.py:88\u001b[0m, in \u001b[0;36mSmosL2Cube._get_dataset_lazily\u001b[1;34m(self, level, parameters)\u001b[0m\n\u001b[0;32m     85\u001b[0m spatial_res \u001b[38;5;241m=\u001b[39m MIN_PIXEL_SIZE \u001b[38;5;241m*\u001b[39m scale\n\u001b[0;32m     87\u001b[0m \u001b[38;5;66;03m# Load prototype product (cached)\u001b[39;00m\n\u001b[1;32m---> 88\u001b[0m l2_product \u001b[38;5;241m=\u001b[39m \u001b[38;5;28;43mself\u001b[39;49m\u001b[38;5;241;43m.\u001b[39;49m\u001b[43mtime_step_loader\u001b[49m\u001b[38;5;241;43m.\u001b[39;49m\u001b[43mload_l2_product\u001b[49m\u001b[43m(\u001b[49m\u001b[38;5;241;43m0\u001b[39;49m\u001b[43m)\u001b[49m\n\u001b[0;32m     90\u001b[0m time_bounds \u001b[38;5;241m=\u001b[39m \u001b[38;5;28mself\u001b[39m\u001b[38;5;241m.\u001b[39mtime_bounds\n\u001b[0;32m     91\u001b[0m time_start \u001b[38;5;241m=\u001b[39m time_bounds[:, \u001b[38;5;241m0\u001b[39m]\n",
      "File \u001b[1;32mc:\\users\\norma\\projects\\xcube-smos\\xcube_smos\\mldataset\\l2cube.py:270\u001b[0m, in \u001b[0;36mSmosTimeStepLoader.load_l2_product\u001b[1;34m(self, time_idx)\u001b[0m\n\u001b[0;32m    268\u001b[0m     \u001b[38;5;28;01mreturn\u001b[39;00m l2_product\n\u001b[0;32m    269\u001b[0m dataset_path \u001b[38;5;241m=\u001b[39m \u001b[38;5;28mself\u001b[39m\u001b[38;5;241m.\u001b[39mdataset_paths[time_idx]\n\u001b[1;32m--> 270\u001b[0m l2_dataset \u001b[38;5;241m=\u001b[39m \u001b[38;5;28;43mself\u001b[39;49m\u001b[38;5;241;43m.\u001b[39;49m\u001b[43mdataset_opener\u001b[49m\u001b[43m(\u001b[49m\u001b[43mdataset_path\u001b[49m\u001b[43m,\u001b[49m\u001b[43m \u001b[49m\u001b[38;5;241;43m*\u001b[39;49m\u001b[38;5;241;43m*\u001b[39;49m\u001b[38;5;28;43mself\u001b[39;49m\u001b[38;5;241;43m.\u001b[39;49m\u001b[43mdataset_opener_kwargs\u001b[49m\u001b[43m)\u001b[49m\n\u001b[0;32m    271\u001b[0m l2_dataset \u001b[38;5;241m=\u001b[39m l2_dataset\u001b[38;5;241m.\u001b[39mchunk()  \u001b[38;5;66;03m# Wrap numpy arrays into dask arrays\u001b[39;00m\n\u001b[0;32m    272\u001b[0m LOG\u001b[38;5;241m.\u001b[39mdebug(\u001b[38;5;124m\"\u001b[39m\u001b[38;5;124mOpening L2 product \u001b[39m\u001b[38;5;132;01m%s\u001b[39;00m\u001b[38;5;124m for time index \u001b[39m\u001b[38;5;132;01m%d\u001b[39;00m\u001b[38;5;124m\"\u001b[39m, dataset_path, time_idx)\n",
      "File \u001b[1;32mc:\\users\\norma\\projects\\xcube-smos\\xcube_smos\\catalog\\direct.py:184\u001b[0m, in \u001b[0;36mopen_dataset\u001b[1;34m(source_file, source_protocol, source_storage_options, cache_path, xarray_kwargs)\u001b[0m\n\u001b[0;32m    182\u001b[0m local_file \u001b[38;5;241m=\u001b[39m TempNcDir\u001b[38;5;241m.\u001b[39mget_instance()\u001b[38;5;241m.\u001b[39mnew_file()\n\u001b[0;32m    183\u001b[0m LOG\u001b[38;5;241m.\u001b[39mdebug(\u001b[38;5;124m\"\u001b[39m\u001b[38;5;124mDownloading \u001b[39m\u001b[38;5;132;01m%s\u001b[39;00m\u001b[38;5;124m to \u001b[39m\u001b[38;5;132;01m%s\u001b[39;00m\u001b[38;5;124m\"\u001b[39m, source_file, local_file)\n\u001b[1;32m--> 184\u001b[0m \u001b[43mremote_fs\u001b[49m\u001b[38;5;241;43m.\u001b[39;49m\u001b[43mget\u001b[49m\u001b[43m(\u001b[49m\u001b[43msource_file\u001b[49m\u001b[43m,\u001b[49m\u001b[43m \u001b[49m\u001b[43mlocal_file\u001b[49m\u001b[43m)\u001b[49m\n\u001b[0;32m    185\u001b[0m LOG\u001b[38;5;241m.\u001b[39mdebug(\u001b[38;5;124m\"\u001b[39m\u001b[38;5;124mOpening dataset from \u001b[39m\u001b[38;5;132;01m%s\u001b[39;00m\u001b[38;5;124m\"\u001b[39m, local_file)\n\u001b[0;32m    186\u001b[0m ds \u001b[38;5;241m=\u001b[39m xr\u001b[38;5;241m.\u001b[39mopen_dataset(local_file, \u001b[38;5;241m*\u001b[39m\u001b[38;5;241m*\u001b[39mopen_dataset_kwargs)\n",
      "File \u001b[1;32m~\\miniconda3\\envs\\xcube\\Lib\\site-packages\\fsspec\\asyn.py:118\u001b[0m, in \u001b[0;36msync_wrapper.<locals>.wrapper\u001b[1;34m(*args, **kwargs)\u001b[0m\n\u001b[0;32m    115\u001b[0m \u001b[38;5;129m@functools\u001b[39m\u001b[38;5;241m.\u001b[39mwraps(func)\n\u001b[0;32m    116\u001b[0m \u001b[38;5;28;01mdef\u001b[39;00m \u001b[38;5;21mwrapper\u001b[39m(\u001b[38;5;241m*\u001b[39margs, \u001b[38;5;241m*\u001b[39m\u001b[38;5;241m*\u001b[39mkwargs):\n\u001b[0;32m    117\u001b[0m     \u001b[38;5;28mself\u001b[39m \u001b[38;5;241m=\u001b[39m obj \u001b[38;5;129;01mor\u001b[39;00m args[\u001b[38;5;241m0\u001b[39m]\n\u001b[1;32m--> 118\u001b[0m     \u001b[38;5;28;01mreturn\u001b[39;00m \u001b[43msync\u001b[49m\u001b[43m(\u001b[49m\u001b[38;5;28;43mself\u001b[39;49m\u001b[38;5;241;43m.\u001b[39;49m\u001b[43mloop\u001b[49m\u001b[43m,\u001b[49m\u001b[43m \u001b[49m\u001b[43mfunc\u001b[49m\u001b[43m,\u001b[49m\u001b[43m \u001b[49m\u001b[38;5;241;43m*\u001b[39;49m\u001b[43margs\u001b[49m\u001b[43m,\u001b[49m\u001b[43m \u001b[49m\u001b[38;5;241;43m*\u001b[39;49m\u001b[38;5;241;43m*\u001b[39;49m\u001b[43mkwargs\u001b[49m\u001b[43m)\u001b[49m\n",
      "File \u001b[1;32m~\\miniconda3\\envs\\xcube\\Lib\\site-packages\\fsspec\\asyn.py:103\u001b[0m, in \u001b[0;36msync\u001b[1;34m(loop, func, timeout, *args, **kwargs)\u001b[0m\n\u001b[0;32m    101\u001b[0m     \u001b[38;5;28;01mraise\u001b[39;00m FSTimeoutError \u001b[38;5;28;01mfrom\u001b[39;00m \u001b[38;5;21;01mreturn_result\u001b[39;00m\n\u001b[0;32m    102\u001b[0m \u001b[38;5;28;01melif\u001b[39;00m \u001b[38;5;28misinstance\u001b[39m(return_result, \u001b[38;5;167;01mBaseException\u001b[39;00m):\n\u001b[1;32m--> 103\u001b[0m     \u001b[38;5;28;01mraise\u001b[39;00m return_result\n\u001b[0;32m    104\u001b[0m \u001b[38;5;28;01melse\u001b[39;00m:\n\u001b[0;32m    105\u001b[0m     \u001b[38;5;28;01mreturn\u001b[39;00m return_result\n",
      "File \u001b[1;32m~\\miniconda3\\envs\\xcube\\Lib\\site-packages\\fsspec\\asyn.py:56\u001b[0m, in \u001b[0;36m_runner\u001b[1;34m(event, coro, result, timeout)\u001b[0m\n\u001b[0;32m     54\u001b[0m     coro \u001b[38;5;241m=\u001b[39m asyncio\u001b[38;5;241m.\u001b[39mwait_for(coro, timeout\u001b[38;5;241m=\u001b[39mtimeout)\n\u001b[0;32m     55\u001b[0m \u001b[38;5;28;01mtry\u001b[39;00m:\n\u001b[1;32m---> 56\u001b[0m     result[\u001b[38;5;241m0\u001b[39m] \u001b[38;5;241m=\u001b[39m \u001b[38;5;28;01mawait\u001b[39;00m coro\n\u001b[0;32m     57\u001b[0m \u001b[38;5;28;01mexcept\u001b[39;00m \u001b[38;5;167;01mException\u001b[39;00m \u001b[38;5;28;01mas\u001b[39;00m ex:\n\u001b[0;32m     58\u001b[0m     result[\u001b[38;5;241m0\u001b[39m] \u001b[38;5;241m=\u001b[39m ex\n",
      "File \u001b[1;32m~\\miniconda3\\envs\\xcube\\Lib\\site-packages\\fsspec\\asyn.py:609\u001b[0m, in \u001b[0;36mAsyncFileSystem._get\u001b[1;34m(self, rpath, lpath, recursive, callback, maxdepth, **kwargs)\u001b[0m\n\u001b[0;32m    604\u001b[0m rpaths \u001b[38;5;241m=\u001b[39m \u001b[38;5;28;01mawait\u001b[39;00m \u001b[38;5;28mself\u001b[39m\u001b[38;5;241m.\u001b[39m_expand_path(\n\u001b[0;32m    605\u001b[0m     rpath, recursive\u001b[38;5;241m=\u001b[39mrecursive, maxdepth\u001b[38;5;241m=\u001b[39mmaxdepth\n\u001b[0;32m    606\u001b[0m )\n\u001b[0;32m    607\u001b[0m \u001b[38;5;28;01mif\u001b[39;00m source_is_str \u001b[38;5;129;01mand\u001b[39;00m (\u001b[38;5;129;01mnot\u001b[39;00m recursive \u001b[38;5;129;01mor\u001b[39;00m maxdepth \u001b[38;5;129;01mis\u001b[39;00m \u001b[38;5;129;01mnot\u001b[39;00m \u001b[38;5;28;01mNone\u001b[39;00m):\n\u001b[0;32m    608\u001b[0m     \u001b[38;5;66;03m# Non-recursive glob does not copy directories\u001b[39;00m\n\u001b[1;32m--> 609\u001b[0m     rpaths \u001b[38;5;241m=\u001b[39m [\n\u001b[0;32m    610\u001b[0m         p \u001b[38;5;28;01mfor\u001b[39;00m p \u001b[38;5;129;01min\u001b[39;00m rpaths \u001b[38;5;28;01mif\u001b[39;00m \u001b[38;5;129;01mnot\u001b[39;00m (trailing_sep(p) \u001b[38;5;129;01mor\u001b[39;00m \u001b[38;5;28;01mawait\u001b[39;00m \u001b[38;5;28mself\u001b[39m\u001b[38;5;241m.\u001b[39m_isdir(p))\n\u001b[0;32m    611\u001b[0m     ]\n\u001b[0;32m    612\u001b[0m     \u001b[38;5;28;01mif\u001b[39;00m \u001b[38;5;129;01mnot\u001b[39;00m rpaths:\n\u001b[0;32m    613\u001b[0m         \u001b[38;5;28;01mreturn\u001b[39;00m\n",
      "File \u001b[1;32m~\\miniconda3\\envs\\xcube\\Lib\\site-packages\\fsspec\\asyn.py:610\u001b[0m, in \u001b[0;36m<listcomp>\u001b[1;34m(.0)\u001b[0m\n\u001b[0;32m    604\u001b[0m rpaths \u001b[38;5;241m=\u001b[39m \u001b[38;5;28;01mawait\u001b[39;00m \u001b[38;5;28mself\u001b[39m\u001b[38;5;241m.\u001b[39m_expand_path(\n\u001b[0;32m    605\u001b[0m     rpath, recursive\u001b[38;5;241m=\u001b[39mrecursive, maxdepth\u001b[38;5;241m=\u001b[39mmaxdepth\n\u001b[0;32m    606\u001b[0m )\n\u001b[0;32m    607\u001b[0m \u001b[38;5;28;01mif\u001b[39;00m source_is_str \u001b[38;5;129;01mand\u001b[39;00m (\u001b[38;5;129;01mnot\u001b[39;00m recursive \u001b[38;5;129;01mor\u001b[39;00m maxdepth \u001b[38;5;129;01mis\u001b[39;00m \u001b[38;5;129;01mnot\u001b[39;00m \u001b[38;5;28;01mNone\u001b[39;00m):\n\u001b[0;32m    608\u001b[0m     \u001b[38;5;66;03m# Non-recursive glob does not copy directories\u001b[39;00m\n\u001b[0;32m    609\u001b[0m     rpaths \u001b[38;5;241m=\u001b[39m [\n\u001b[1;32m--> 610\u001b[0m         p \u001b[38;5;28;01mfor\u001b[39;00m p \u001b[38;5;129;01min\u001b[39;00m rpaths \u001b[38;5;28;01mif\u001b[39;00m \u001b[38;5;129;01mnot\u001b[39;00m (trailing_sep(p) \u001b[38;5;129;01mor\u001b[39;00m \u001b[38;5;28;01mawait\u001b[39;00m \u001b[38;5;28mself\u001b[39m\u001b[38;5;241m.\u001b[39m_isdir(p))\n\u001b[0;32m    611\u001b[0m     ]\n\u001b[0;32m    612\u001b[0m     \u001b[38;5;28;01mif\u001b[39;00m \u001b[38;5;129;01mnot\u001b[39;00m rpaths:\n\u001b[0;32m    613\u001b[0m         \u001b[38;5;28;01mreturn\u001b[39;00m\n",
      "File \u001b[1;32m~\\miniconda3\\envs\\xcube\\Lib\\site-packages\\s3fs\\core.py:1411\u001b[0m, in \u001b[0;36mS3FileSystem._isdir\u001b[1;34m(self, path)\u001b[0m\n\u001b[0;32m   1409\u001b[0m \u001b[38;5;66;03m# This only returns things within the path and NOT the path object itself\u001b[39;00m\n\u001b[0;32m   1410\u001b[0m \u001b[38;5;28;01mtry\u001b[39;00m:\n\u001b[1;32m-> 1411\u001b[0m     \u001b[38;5;28;01mreturn\u001b[39;00m \u001b[38;5;28mbool\u001b[39m(\u001b[38;5;28;01mawait\u001b[39;00m \u001b[38;5;28mself\u001b[39m\u001b[38;5;241m.\u001b[39m_lsdir(path))\n\u001b[0;32m   1412\u001b[0m \u001b[38;5;28;01mexcept\u001b[39;00m \u001b[38;5;167;01mFileNotFoundError\u001b[39;00m:\n\u001b[0;32m   1413\u001b[0m     \u001b[38;5;28;01mreturn\u001b[39;00m \u001b[38;5;28;01mFalse\u001b[39;00m\n",
      "File \u001b[1;32m~\\miniconda3\\envs\\xcube\\Lib\\site-packages\\s3fs\\core.py:719\u001b[0m, in \u001b[0;36mS3FileSystem._lsdir\u001b[1;34m(self, path, refresh, max_items, delimiter, prefix, versions)\u001b[0m\n\u001b[0;32m    717\u001b[0m     files \u001b[38;5;241m+\u001b[39m\u001b[38;5;241m=\u001b[39m dirs\n\u001b[0;32m    718\u001b[0m \u001b[38;5;28;01mexcept\u001b[39;00m ClientError \u001b[38;5;28;01mas\u001b[39;00m e:\n\u001b[1;32m--> 719\u001b[0m     \u001b[38;5;28;01mraise\u001b[39;00m translate_boto_error(e)\n\u001b[0;32m    721\u001b[0m \u001b[38;5;28;01mif\u001b[39;00m delimiter \u001b[38;5;129;01mand\u001b[39;00m files \u001b[38;5;129;01mand\u001b[39;00m \u001b[38;5;129;01mnot\u001b[39;00m versions:\n\u001b[0;32m    722\u001b[0m     \u001b[38;5;28mself\u001b[39m\u001b[38;5;241m.\u001b[39mdircache[path] \u001b[38;5;241m=\u001b[39m files\n",
      "\u001b[1;31mPermissionError\u001b[0m: Forbidden"
     ]
    }
   ],
   "source": [
    "sm_cube = store.open_data(\"SMOS-L2C-SM\", \n",
    "                          time_range=[\"2024-01-01\", \"2024-01-02\"])\n",
    "sm_cube"
   ]
  },
  {
   "cell_type": "markdown",
   "id": "23dfe879-21b8-496c-87b9-019cde15eceb",
   "metadata": {},
   "source": [
    "Same for **Ocean Salinity**:"
   ]
  },
  {
   "cell_type": "code",
   "execution_count": 11,
   "id": "743035ed-76aa-45bb-8962-c23dc5adb060",
   "metadata": {},
   "outputs": [
    {
     "ename": "ValueError",
     "evalue": "Unknown dataset identifier 'SMOS-L2C-OC'",
     "output_type": "error",
     "traceback": [
      "\u001b[1;31m---------------------------------------------------------------------------\u001b[0m",
      "\u001b[1;31mValueError\u001b[0m                                Traceback (most recent call last)",
      "Cell \u001b[1;32mIn[11], line 1\u001b[0m\n\u001b[1;32m----> 1\u001b[0m os_cube \u001b[38;5;241m=\u001b[39m \u001b[43mstore\u001b[49m\u001b[38;5;241;43m.\u001b[39;49m\u001b[43mopen_data\u001b[49m\u001b[43m(\u001b[49m\u001b[38;5;124;43m\"\u001b[39;49m\u001b[38;5;124;43mSMOS-L2C-OC\u001b[39;49m\u001b[38;5;124;43m\"\u001b[39;49m\u001b[43m,\u001b[49m\u001b[43m \u001b[49m\n\u001b[0;32m      2\u001b[0m \u001b[43m                          \u001b[49m\u001b[43mtime_range\u001b[49m\u001b[38;5;241;43m=\u001b[39;49m\u001b[43m[\u001b[49m\u001b[38;5;124;43m\"\u001b[39;49m\u001b[38;5;124;43m2024-01-01\u001b[39;49m\u001b[38;5;124;43m\"\u001b[39;49m\u001b[43m,\u001b[49m\u001b[43m \u001b[49m\u001b[38;5;124;43m\"\u001b[39;49m\u001b[38;5;124;43m2024-01-02\u001b[39;49m\u001b[38;5;124;43m\"\u001b[39;49m\u001b[43m]\u001b[49m\u001b[43m)\u001b[49m\n\u001b[0;32m      3\u001b[0m os_cube\n",
      "File \u001b[1;32mc:\\users\\norma\\projects\\xcube-smos\\xcube_smos\\store.py:204\u001b[0m, in \u001b[0;36mSmosDataStore.open_data\u001b[1;34m(self, data_id, opener_id, **open_params)\u001b[0m\n\u001b[0;32m    201\u001b[0m \u001b[38;5;28;01mdef\u001b[39;00m \u001b[38;5;21mopen_data\u001b[39m(\n\u001b[0;32m    202\u001b[0m     \u001b[38;5;28mself\u001b[39m, data_id: \u001b[38;5;28mstr\u001b[39m, opener_id: \u001b[38;5;28mstr\u001b[39m \u001b[38;5;241m=\u001b[39m \u001b[38;5;28;01mNone\u001b[39;00m, \u001b[38;5;241m*\u001b[39m\u001b[38;5;241m*\u001b[39mopen_params\n\u001b[0;32m    203\u001b[0m ) \u001b[38;5;241m-\u001b[39m\u001b[38;5;241m>\u001b[39m Union[xr\u001b[38;5;241m.\u001b[39mDataset, MultiLevelDataset, DatasetIterator]:\n\u001b[1;32m--> 204\u001b[0m     \u001b[38;5;28;43mself\u001b[39;49m\u001b[38;5;241;43m.\u001b[39;49m\u001b[43m_assert_valid_data_id\u001b[49m\u001b[43m(\u001b[49m\u001b[43mdata_id\u001b[49m\u001b[43m)\u001b[49m\n\u001b[0;32m    205\u001b[0m     schema \u001b[38;5;241m=\u001b[39m \u001b[38;5;28mself\u001b[39m\u001b[38;5;241m.\u001b[39mget_open_data_params_schema(opener_id\u001b[38;5;241m=\u001b[39mopener_id)\n\u001b[0;32m    206\u001b[0m     schema\u001b[38;5;241m.\u001b[39mvalidate_instance(open_params)\n",
      "File \u001b[1;32mc:\\users\\norma\\projects\\xcube-smos\\xcube_smos\\store.py:271\u001b[0m, in \u001b[0;36mSmosDataStore._assert_valid_data_id\u001b[1;34m(cls, data_id)\u001b[0m\n\u001b[0;32m    268\u001b[0m \u001b[38;5;129m@classmethod\u001b[39m\n\u001b[0;32m    269\u001b[0m \u001b[38;5;28;01mdef\u001b[39;00m \u001b[38;5;21m_assert_valid_data_id\u001b[39m(\u001b[38;5;28mcls\u001b[39m, data_id: \u001b[38;5;28mstr\u001b[39m):\n\u001b[0;32m    270\u001b[0m     \u001b[38;5;28;01mif\u001b[39;00m data_id \u001b[38;5;129;01mnot\u001b[39;00m \u001b[38;5;129;01min\u001b[39;00m DATASET_ATTRIBUTES:\n\u001b[1;32m--> 271\u001b[0m         \u001b[38;5;28;01mraise\u001b[39;00m \u001b[38;5;167;01mValueError\u001b[39;00m(\u001b[38;5;124mf\u001b[39m\u001b[38;5;124m\"\u001b[39m\u001b[38;5;124mUnknown dataset identifier \u001b[39m\u001b[38;5;132;01m{\u001b[39;00mdata_id\u001b[38;5;132;01m!r}\u001b[39;00m\u001b[38;5;124m\"\u001b[39m)\n",
      "\u001b[1;31mValueError\u001b[0m: Unknown dataset identifier 'SMOS-L2C-OC'"
     ]
    }
   ],
   "source": [
    "os_cube = store.open_data(\"SMOS-L2C-OC\", \n",
    "                          time_range=[\"2024-01-01\", \"2024-01-02\"])\n",
    "os_cube"
   ]
  },
  {
   "cell_type": "markdown",
   "id": "01f8633b-7d66-488a-8b70-03f174455462",
   "metadata": {},
   "source": [
    "TODO: explain dataset content, why there are 31 tine steps"
   ]
  },
  {
   "cell_type": "code",
   "execution_count": 11,
   "id": "3152964f-fc32-482d-9fb0-5f4648b4067a",
   "metadata": {},
   "outputs": [
    {
     "data": {
      "text/plain": [
       "<matplotlib.image.AxesImage at 0x25c3540a190>"
      ]
     },
     "execution_count": 11,
     "metadata": {},
     "output_type": "execute_result"
    },
    {
     "data": {
      "image/png": "[encoded data removed]",
      "text/plain": [
       "<Figure size 1000x500 with 2 Axes>"
      ]
     },
     "metadata": {},
     "output_type": "display_data"
    }
   ],
   "source": [
    "sm_cube.Soil_Moisture.isel(time=4).plot.imshow(figsize=(10, 5))"
   ]
  },
  {
   "cell_type": "markdown",
   "id": "45d208ec-6188-4dcc-b17b-fa1c6b4055a2",
   "metadata": {},
   "source": [
    "The xcube data store framework , the different data representations \n",
    "are provided by dedicated _data openers_. Hence, a common and optional \n",
    "argument is `opener_id`, which is used to control how the data is \n",
    "represented. The SMOS data store can currently provide three \n",
    "different representations of SMOS data addressing different use cases:\n",
    "\n",
    "* `\"dataset:zarr:smos\"` (the default) - represent data as a datacube including \n",
    "   all observations in the given time range at a fixed spatial resolution;\n",
    "* `\"mldataset:zarr:smos\"` - represent data as a multi-resolution datacube \n",
    "   including all observations in the given time range including 5 spatial \n",
    "   resolution levels;\n",
    "* `\"smosdsiter:zarr:smos\"` - represent data as an iterator providing datasets \n",
    "   for all the observations in the given time range at a fixed spatial \n",
    "   resolution."
   ]
  },
  {
   "cell_type": "markdown",
   "id": "53054b82-3cee-40b9-bed9-70d65c542d0b",
   "metadata": {},
   "source": [
    "### Datacube Parameters\n",
    "\n",
    "The following parameters are common to all data openers:\n",
    "\n",
    "* `time_range`: \n",
    "  The time range `(start, stop)` given as pair of start and stop dates \n",
    "  either as `tuple` or `list` of `str`. \n",
    "  Dates must be given using format `\"YYYY-MM-DD\"`. \n",
    "  Start and stop are inclusive.\n",
    "* `bbox`: Bounding box in geographical coordinates given as `(x1,y1, x2,y2)` \n",
    "  either as `tuple` or `list` of `float`.\n",
    "* `res_level`: Spatial resolution level in the range 0 to 4. \n",
    "  Actual resolution in degrees is . \n",
    "  Defaults to `0`. \n",
    "  Not applicable to opener type `\"mldataset:zarr:smos\"`.\n",
    "* `l2_product_cache_size`: Size of the SMOS L2 product cache given as \n",
    "  maximum number of SMOS L2 products to be cached in memory.\n",
    "  Can drastically improve performance if you need random access datacubes.\n",
    "  Applies to opener type `\"mldataset:zarr:smos\"` only."
   ]
  },
  {
   "cell_type": "markdown",
   "id": "91d4dc35-1fe3-4efe-b8a5-94fc04e879d3",
   "metadata": {},
   "source": [
    "### Common Access Parameters"
   ]
  },
  {
   "cell_type": "markdown",
   "id": "0b18c5d6-7554-4470-bdcc-fcc66d865023",
   "metadata": {},
   "source": [
    "### Datacube"
   ]
  },
  {
   "cell_type": "markdown",
   "id": "8487c619-fb5a-4a4a-be09-0c8f02b721d6",
   "metadata": {},
   "source": [
    "### Multi-Resolution Datacube"
   ]
  },
  {
   "cell_type": "code",
   "execution_count": null,
   "id": "86d7d4c7-8a2b-4c8b-bbf7-b1a1e693c048",
   "metadata": {},
   "outputs": [],
   "source": [
    "Additional "
   ]
  },
  {
   "cell_type": "markdown",
   "id": "99aa1b03-684f-4f89-8580-1cf6f8d944fe",
   "metadata": {},
   "source": [
    "### Dataset Iterators"
   ]
  },
  {
   "cell_type": "markdown",
   "id": "a6204217-b57c-4918-9313-7dbaf4a4f7ee",
   "metadata": {},
   "source": [
    "## Parameter Schemas\n",
    "\n",
    "This section describes how the various parameters used by SMOS data store\n",
    "can be inspected programmatically.\n",
    "\n",
    "### Schema for the Data Store Parameters\n",
    "\n",
    "The xcube function `get_data_store_params_schema()` outputs the allowed parameters \n",
    "for a given data store as a JSON Schema object:"
   ]
  },
  {
   "cell_type": "code",
   "execution_count": 12,
   "id": "cc08b3ea-cb24-4582-80a0-768407b842c4",
   "metadata": {
    "tags": []
   },
   "outputs": [
    {
     "data": {
      "application/json": {
       "additionalProperties": true,
       "description": "Describes the parameters of the xcube data store 'smos'. Additional parameters are allowed and override properties in 'source_storage_options'.",
       "properties": {
        "cache_path": {
         "examples": [
          "~/.smos-nc-cache"
         ],
         "minLength": 1,
         "title": "Path to local cache directory. Must be given, if file caching is desired.",
         "type": "string"
        },
        "source_path": {
         "examples": [
          "EODATA"
         ],
         "minLength": 1,
         "title": "Path or URL into SMOS archive filesystem.",
         "type": "string"
        },
        "source_protocol": {
         "examples": [
          "s3",
          "file"
         ],
         "minLength": 2,
         "title": "Protocol name for the SMOS archive filesystem.",
         "type": "string"
        },
        "source_storage_options": {
         "additionalProperties": true,
         "description": "See fsspec documentation for specific filesystems.",
         "examples": [
          {
           "anon": false,
           "endpoint_url": "https://s3.cloudferro.com",
           "key": "******",
           "secret": "******"
          }
         ],
         "properties": {},
         "title": "Storage options for the SMOS archive filesystem.",
         "type": "object"
        },
        "xarray_kwargs": {
         "additionalProperties": true,
         "description": "See xarray documentation for allowed keywords.",
         "examples": [
          {
           "engine": "netcdf4"
          }
         ],
         "properties": {},
         "title": "Extra keyword arguments accepted by xarray.open_dataset.",
         "type": "object"
        }
       },
       "type": "object"
      },
      "text/plain": [
       "<xcube.util.jsonschema.JsonObjectSchema at 0x25c30c228d0>"
      ]
     },
     "execution_count": 12,
     "metadata": {},
     "output_type": "execute_result"
    }
   ],
   "source": [
    "from xcube.core.store import get_data_store_params_schema\n",
    "\n",
    "schema = get_data_store_params_schema(\"smos\")\n",
    "schema"
   ]
  },
  {
   "cell_type": "code",
   "execution_count": 19,
   "id": "89a49347-168b-4e7c-a3a1-8a7d9ab67e95",
   "metadata": {},
   "outputs": [
    {
     "name": "stdout",
     "output_type": "stream",
     "text": [
      "* `time_range: array - Time range given as pair of start and stop dates. Dates must be given using format 'YYYY-MM-DD'. Start and stop are inclusive.\n",
      "* `bbox: array - Bounding box [x1,y1, x2,y2] in geographical coordinates\n",
      "* `res_level: integer - Spatial resolution level in the range 0 to 4. Zero refers to the max. resolution of 0.0439453125 degrees.\n"
     ]
    }
   ],
   "source": [
    "# For example:\n",
    "for p_name, p_schema in schema.properties.items():\n",
    "    print(f\"* `{p_name}: {p_schema.type} - {p_schema.description or p_schema.title}\")"
   ]
  },
  {
   "cell_type": "markdown",
   "id": "a66f6940-deae-4573-9d74-beaaad84686e",
   "metadata": {},
   "source": [
    "You can use `schema.to_dict()` get a JSON-serializable dictionary."
   ]
  },
  {
   "cell_type": "markdown",
   "id": "53c61092-190d-44ba-9e99-7eb316eea1cb",
   "metadata": {},
   "source": [
    "### Schema for the Open Parameters\n",
    "\n",
    "Using the `store.get_open_data_params_schema()` method you can inspect \n",
    "the allowed parameters for the `store.open_data()` method, which is \n",
    "used to open SMOS datacubes."
   ]
  },
  {
   "cell_type": "code",
   "execution_count": 20,
   "id": "9aad07fd-20cb-4e6d-864a-f97448b3b2bd",
   "metadata": {},
   "outputs": [
    {
     "data": {
      "application/json": {
       "additionalProperties": false,
       "properties": {
        "bbox": {
         "items": [
          {
           "type": "number"
          },
          {
           "type": "number"
          },
          {
           "type": "number"
          },
          {
           "type": "number"
          }
         ],
         "title": "Bounding box [x1,y1, x2,y2] in geographical coordinates",
         "type": "array"
        },
        "res_level": {
         "default": 0,
         "description": "Spatial resolution level in the range 0 to 4. Zero refers to the max. resolution of 0.0439453125 degrees.",
         "enum": [
          0,
          1,
          2,
          3,
          4
         ],
         "title": "Spatial Resolution Level",
         "type": "integer"
        },
        "time_range": {
         "description": "Time range given as pair of start and stop dates. Dates must be given using format 'YYYY-MM-DD'. Start and stop are inclusive.",
         "items": [
          {
           "format": "date",
           "type": [
            "string",
            "null"
           ]
          },
          {
           "format": "date",
           "type": [
            "string",
            "null"
           ]
          }
         ],
         "title": "Time Range",
         "type": "array"
        }
       },
       "required": [
        "time_range"
       ],
       "type": "object"
      },
      "text/plain": [
       "<xcube.util.jsonschema.JsonObjectSchema at 0x25c30c224d0>"
      ]
     },
     "execution_count": 20,
     "metadata": {},
     "output_type": "execute_result"
    }
   ],
   "source": [
    "schema = store.get_open_data_params_schema(opener_id=\"dataset:zarr:smos\")\n",
    "schema"
   ]
  },
  {
   "cell_type": "code",
   "execution_count": 21,
   "id": "74771f90-f267-4843-b653-0799c566fca0",
   "metadata": {},
   "outputs": [
    {
     "name": "stdout",
     "output_type": "stream",
     "text": [
      "* `time_range: array - Time range given as pair of start and stop dates. Dates must be given using format 'YYYY-MM-DD'. Start and stop are inclusive.\n",
      "* `bbox: array - Bounding box [x1,y1, x2,y2] in geographical coordinates\n",
      "* `res_level: integer - Spatial resolution level in the range 0 to 4. Zero refers to the max. resolution of 0.0439453125 degrees.\n"
     ]
    }
   ],
   "source": [
    "for p_name, p_schema in schema.properties.items():\n",
    "    print(f\"* `{p_name}: {p_schema.type} - {p_schema.description or p_schema.title}\")"
   ]
  },
  {
   "cell_type": "code",
   "execution_count": null,
   "id": "bcb3b575-b119-4471-9436-20a47aa5fdcf",
   "metadata": {},
   "outputs": [],
   "source": []
  }
 ],
 "metadata": {
  "kernelspec": {
   "display_name": "Python 3 (ipykernel)",
   "language": "python",
   "name": "python3"
  },
  "language_info": {
   "codemirror_mode": {
    "name": "ipython",
    "version": 3
   },
   "file_extension": ".py",
   "mimetype": "text/x-python",
   "name": "python",
   "nbconvert_exporter": "python",
   "pygments_lexer": "ipython3",
   "version": "3.11.6"
  }
 },
 "nbformat": 4,
 "nbformat_minor": 5
}

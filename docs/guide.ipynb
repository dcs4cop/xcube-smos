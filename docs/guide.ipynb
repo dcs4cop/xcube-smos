{
 "cells": [
  {
   "cell_type": "markdown",
   "id": "519c8ef3-0e4a-4de7-8e7c-1e80c3ed2393",
   "metadata": {},
   "source": [
    "# User Guide\n",
    "\n",
    "_This user guide is currently being written._"
   ]
  },
  {
   "cell_type": "markdown",
   "id": "b5e39056-37ac-4d35-9c77-d92790abdf04",
   "metadata": {},
   "source": [
    "## Obtaining the Data Store\n",
    "\n",
    "After [installation](start.md#installation) and once you have your \n",
    "[credentials](start.md#credentials) at hand, you can use the SMOS data store \n",
    "using its class exported by the `xcube_smos.store` module:"
   ]
  },
  {
   "cell_type": "code",
   "execution_count": 4,
   "id": "4382cda9-eee5-4235-a1aa-a91cc3615dee",
   "metadata": {},
   "outputs": [],
   "source": [
    "from xcube_smos.store import SmosDataStore\n",
    "\n",
    "store = SmosDataStore(key=\"your access key\", \n",
    "                      secret=\"your secret\")"
   ]
  },
  {
   "cell_type": "markdown",
   "id": "647807bb-7651-4f37-a578-7e197676e8d1",
   "metadata": {},
   "source": [
    "However, the preferred way to obtain the store object is by its name `\"smos\"` \n",
    "and using the xcube `new_data_store()` function, because many other xcube \n",
    "data stores can be used in the same way:"
   ]
  },
  {
   "cell_type": "code",
   "execution_count": 5,
   "id": "1bde117b-7f1a-4fda-940b-cf9191787513",
   "metadata": {},
   "outputs": [],
   "source": [
    "from xcube.core.store import new_data_store\n",
    "\n",
    "store = new_data_store(\"smos\", \n",
    "                       key=\"your access key\", \n",
    "                       secret=\"your secret\")"
   ]
  },
  {
   "cell_type": "markdown",
   "id": "7de0f8c3-27bf-4258-8c47-613bb7e298d6",
   "metadata": {},
   "source": [
    "You can avoid passing the `key` and `secret` arguments if you set the \n",
    "environment variables `CREODIAS_S3_KEY` and `CREODIAS_S3_SECRET` accordingly."
   ]
  },
  {
   "cell_type": "markdown",
   "id": "750f6441-3997-4fa8-892d-c66828e0ad55",
   "metadata": {},
   "source": [
    "## Data Store Parameters\n",
    "\n",
    "The data store parameters you can pass to the `new_data_store()` function depend on the\n",
    "data store identifier used. For the data store named  `\"smos\"` the following arguments\n",
    "can be provided:\n",
    "\n",
    "| Name | Type | Description | \n",
    "|------|------|-------------|\n",
    "| `source_path` | `str` | Path or URL into SMOS archive filesystem. |\n",
    "| `source_protocol` | `str` | Protocol name for the SMOS archive filesystem. |\n",
    "| `source_storage_options` | `dict` | Storage options for the SMOS archive filesystem. |\n",
    "| `cache_path` | `str` | Path to local cache directory. Must be given, if file caching is desired. |\n",
    "| `xarray_kwargs`| `dict` | Extra keyword arguments accepted by xarray.open_dataset. |\n",
    "| `**source_storage_options_kwargs`| `dict` | keyword-argument form of `source_storage_options` |\n",
    "\n",
    "Because of `**source_storage_options_kwargs` we can pass storage options directly to the\n",
    "`new_data_store()` call, such as:\n",
    " set.\n",
    "* `key`: Access key identifier for the CREODIAS storage \n",
    "* `secret`: Secret access key for the CREODIAS stor \n",
    "\n",
    "\n"
   ]
  },
  {
   "cell_type": "markdown",
   "id": "668d2cfd-ad65-41c8-9d40-4a529a5db427",
   "metadata": {},
   "source": [
    "You can also inspect the allowed data store keywords programmatically, by using the \n",
    "xcube function `get_data_store_params_schema()`, which outputs the allowed parameters \n",
    "for a given data store as a JSON Schema.object:"
   ]
  },
  {
   "cell_type": "code",
   "execution_count": 2,
   "id": "cc08b3ea-cb24-4582-80a0-768407b842c4",
   "metadata": {},
   "outputs": [
    {
     "data": {
      "application/json": {
       "additionalProperties": true,
       "description": "Describes the parameters of the xcube data store 'smos'. Additional parameters are allowed and override properties in 'source_storage_options'.",
       "properties": {
        "cache_path": {
         "examples": [
          "~/.smos-nc-cache"
         ],
         "minLength": 1,
         "title": "Path to local cache directory. Must be given, if file caching is desired.",
         "type": "string"
        },
        "source_path": {
         "examples": [
          "EODATA"
         ],
         "minLength": 1,
         "title": "Path or URL into SMOS archive filesystem.",
         "type": "string"
        },
        "source_protocol": {
         "examples": [
          "s3",
          "file"
         ],
         "minLength": 2,
         "title": "Protocol name for the SMOS archive filesystem.",
         "type": "string"
        },
        "source_storage_options": {
         "additionalProperties": true,
         "description": "See fsspec documentation for specific filesystems.",
         "examples": [
          {
           "anon": false,
           "endpoint_url": "https://s3.cloudferro.com",
           "key": "******",
           "secret": "******"
          }
         ],
         "properties": {},
         "title": "Storage options for the SMOS archive filesystem.",
         "type": "object"
        },
        "xarray_kwargs": {
         "additionalProperties": true,
         "description": "See xarray documentation for allowed keywords.",
         "examples": [
          {
           "engine": "netcdf4"
          }
         ],
         "properties": {},
         "title": "Extra keyword arguments accepted by xarray.open_dataset.",
         "type": "object"
        }
       },
       "type": "object"
      },
      "text/plain": [
       "<xcube.util.jsonschema.JsonObjectSchema at 0x17d58789d50>"
      ]
     },
     "execution_count": 2,
     "metadata": {},
     "output_type": "execute_result"
    }
   ],
   "source": [
    "from xcube.core.store import get_data_store_params_schema\n",
    "\n",
    "schema = get_data_store_params_schema(\"smos\")\n",
    "schema"
   ]
  },
  {
   "cell_type": "code",
   "execution_count": 3,
   "id": "89a49347-168b-4e7c-a3a1-8a7d9ab67e95",
   "metadata": {},
   "outputs": [
    {
     "name": "stdout",
     "output_type": "stream",
     "text": [
      "* `source_path`: Path or URL into SMOS archive filesystem.\n",
      "* `source_protocol`: Protocol name for the SMOS archive filesystem.\n",
      "* `source_storage_options`: Storage options for the SMOS archive filesystem.\n",
      "* `cache_path`: Path to local cache directory. Must be given, if file caching is desired.\n",
      "* `xarray_kwargs`: Extra keyword arguments accepted by xarray.open_dataset.\n"
     ]
    }
   ],
   "source": [
    "for p_name, p_schema in schema.properties.items():\n",
    "    print(f\"* `{p_name}`: {p_schema.title or p_schema-description}\")"
   ]
  },
  {
   "cell_type": "markdown",
   "id": "a66f6940-deae-4573-9d74-beaaad84686e",
   "metadata": {},
   "source": [
    "Note, you can use `schema.to_dict()` get a JSON-serializable dictionary."
   ]
  },
  {
   "cell_type": "markdown",
   "id": "5abc5ccd-9eff-4cf5-83f2-418324039c5e",
   "metadata": {},
   "source": [
    "Again, you can use `schema.to_dict()` get a JSON-serializable dictionary.\n",
    "\n",
    "## Data Access\n",
    "\n",
    "All xcube data stores provide a `open_data()` method to access the data.\n",
    "It has one required positional argument `data_id` which identifies the\n",
    "data(set) to be opened. The SMOS store provides two datasets, they are\n",
    "\n",
    "* `\"SMOS-L2C-SM\"` - SMOS Level-2C Soil Moisture\n",
    "* `\"SMOS-L2C-OS\"` - SMOS Level-2C Ocean Salinity\n",
    "\n",
    "In the xcube data store framework, the different data representations \n",
    "are provided by dedicated _data openers_. Hence, a common and optional \n",
    "argument is `opener_id`, which is used to control how the data is \n",
    "represented. The SMOS data store can currently provide three \n",
    "different representations of SMOS data addressing different use cases:\n",
    "\n",
    "* `\"dataset:zarr:smos\"` (the default) - represent data as a datacube including \n",
    "   all observations in the given time range at a fixed spatial resolution;\n",
    "* `\"mldataset:zarr:smos\"` - represent data as a multi-resolution datacube \n",
    "   including all observations in the given time range including 5 spatial \n",
    "   resolution levels;\n",
    "* `\"smosdsiter:zarr:smos\"` - represent data as an iterator providing datasets \n",
    "   for all the observations in the given time range at a fixed spatial \n",
    "   resolution."
   ]
  },
  {
   "cell_type": "markdown",
   "id": "53054b82-3cee-40b9-bed9-70d65c542d0b",
   "metadata": {},
   "source": [
    "### Open Parameters\n",
    "\n",
    "Using the data store's `get_open_data_params_schema()` method you can \n",
    "inspect the allowed parameters for the `store.open_data()` method, which is \n",
    "used below."
   ]
  },
  {
   "cell_type": "code",
   "execution_count": 7,
   "id": "9aad07fd-20cb-4e6d-864a-f97448b3b2bd",
   "metadata": {},
   "outputs": [
    {
     "data": {
      "application/json": {
       "additionalProperties": false,
       "properties": {
        "bbox": {
         "items": [
          {
           "type": "number"
          },
          {
           "type": "number"
          },
          {
           "type": "number"
          },
          {
           "type": "number"
          }
         ],
         "title": "Bounding box [x1,y1, x2,y2] in geographical coordinates",
         "type": "array"
        },
        "res_level": {
         "default": 0,
         "description": "Spatial resolution level in the range 0 to 4. Zero refers to the max. resolution of 0.0439453125 degrees.",
         "enum": [
          0,
          1,
          2,
          3,
          4
         ],
         "title": "Spatial Resolution Level",
         "type": "integer"
        },
        "time_range": {
         "description": "Time range given as pair of start and stop dates. Dates must be given using format 'YYYY-MM-DD'. Start and stop are inclusive.",
         "items": [
          {
           "format": "date",
           "type": [
            "string",
            "null"
           ]
          },
          {
           "format": "date",
           "type": [
            "string",
            "null"
           ]
          }
         ],
         "title": "Time Range",
         "type": "array"
        }
       },
       "required": [
        "time_range"
       ],
       "type": "object"
      },
      "text/plain": [
       "<xcube.util.jsonschema.JsonObjectSchema at 0x279d2f4b1d0>"
      ]
     },
     "execution_count": 7,
     "metadata": {},
     "output_type": "execute_result"
    }
   ],
   "source": [
    "schema = store.get_open_data_params_schema()\n",
    "schema"
   ]
  },
  {
   "cell_type": "markdown",
   "id": "91d4dc35-1fe3-4efe-b8a5-94fc04e879d3",
   "metadata": {},
   "source": [
    "### Common Access Parameters"
   ]
  },
  {
   "cell_type": "markdown",
   "id": "0b18c5d6-7554-4470-bdcc-fcc66d865023",
   "metadata": {},
   "source": [
    "### Datacube"
   ]
  },
  {
   "cell_type": "markdown",
   "id": "8487c619-fb5a-4a4a-be09-0c8f02b721d6",
   "metadata": {},
   "source": [
    "### Multi-Resolution Datacube"
   ]
  },
  {
   "cell_type": "markdown",
   "id": "99aa1b03-684f-4f89-8580-1cf6f8d944fe",
   "metadata": {},
   "source": [
    "### Dataset Iterators"
   ]
  },
  {
   "cell_type": "code",
   "execution_count": null,
   "id": "7092841f-1618-4133-b8fa-37fa0a08d358",
   "metadata": {},
   "outputs": [],
   "source": []
  }
 ],
 "metadata": {
  "kernelspec": {
   "display_name": "Python 3 (ipykernel)",
   "language": "python",
   "name": "python3"
  },
  "language_info": {
   "codemirror_mode": {
    "name": "ipython",
    "version": 3
   },
   "file_extension": ".py",
   "mimetype": "text/x-python",
   "name": "python",
   "nbconvert_exporter": "python",
   "pygments_lexer": "ipython3",
   "version": "3.11.6"
  }
 },
 "nbformat": 4,
 "nbformat_minor": 5
}

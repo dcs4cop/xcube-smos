{
 "cells": [
  {
   "cell_type": "markdown",
   "id": "349b4a1c-b2e1-4d34-8c55-227a0b163911",
   "metadata": {},
   "source": [
    "# Estimate the costs for a Global SMOS Level-2C/3 Datacube\n",
    "\n",
    "**CAUTION:** The following cell must be identical to the corresponding one in `notebook.ipynb`."
   ]
  },
  {
   "cell_type": "code",
   "execution_count": 1,
   "id": "6d0b642b",
   "metadata": {
    "tags": [
     "parameters"
    ]
   },
   "outputs": [],
   "source": [
    "# The SMOS product type, must be 'SMOS-L2C-SM' or 'SMOS-L2C-OS'.\n",
    "product_type: str = \"SMOS-L2C-SM\"\n",
    "\n",
    "# Date range given as closed interval '<first>/<last>' with \n",
    "# first and last having format 'YYYY-MM-DD'.\n",
    "time_range: str = \"2022-01-01/2022-12-31\"  \n",
    "\n",
    "# The averaging interval such as '1D', '2D', '1W', or empty, \n",
    "# which means no aggregation.\n",
    "agg_interval: str = \"1D\"  \n",
    "\n",
    "# Spatial resolution level in the range 0 to 4. \n",
    "# Actual resolution in degrees is (2**res_level)*(360/8192).\n",
    "res_level: int = 0 "
   ]
  },
  {
   "cell_type": "code",
   "execution_count": 2,
   "id": "bbf473fd-9cfe-4ad1-9b15-c4522f2dad48",
   "metadata": {},
   "outputs": [],
   "source": [
    "import math\n",
    "import scrapbook\n",
    "import pandas as pd\n",
    "from helpers import get_time_ranges"
   ]
  },
  {
   "cell_type": "code",
   "execution_count": 3,
   "id": "1fb22a8c",
   "metadata": {},
   "outputs": [
    {
     "data": {
      "text/plain": [
       "10585"
      ]
     },
     "execution_count": 3,
     "metadata": {},
     "output_type": "execute_result"
    }
   ],
   "source": [
    "time_ranges = get_time_ranges(time_range, \"1D\")\n",
    "\n",
    "# There are ~29 SMOS product files per day\n",
    "num_input_files = 29 * len(time_ranges)\n",
    "num_input_files"
   ]
  },
  {
   "cell_type": "code",
   "execution_count": 4,
   "id": "012ef28a-2f04-465d-b14a-e654bd9d4e67",
   "metadata": {},
   "outputs": [
    {
     "data": {
      "text/plain": [
       "1972.4916386119867"
      ]
     },
     "execution_count": 4,
     "metadata": {},
     "output_type": "execute_result"
    }
   ],
   "source": [
    "price = 0.75 * num_input_files / math.log10(num_input_files + 1)\n",
    "price"
   ]
  },
  {
   "cell_type": "code",
   "execution_count": 5,
   "id": "a1ef2813",
   "metadata": {},
   "outputs": [
    {
     "data": {
      "application/scrapbook.scrap.json+json": {
       "data": 1972.4916386119867,
       "encoder": "json",
       "name": "",
       "version": 1
      }
     },
     "metadata": {
      "scrapbook": {
       "data": true,
       "display": false,
       "name": ""
      }
     },
     "output_type": "display_data"
    }
   ],
   "source": [
    "# Transmit the price to the EDC platform\n",
    "scrapbook.glue(\"\", price)"
   ]
  }
 ],
 "metadata": {
  "celltoolbar": "Tags",
  "kernelspec": {
   "display_name": "Python 3 (ipykernel)",
   "language": "python",
   "name": "python3"
  },
  "language_info": {
   "codemirror_mode": {
    "name": "ipython",
    "version": 3
   },
   "file_extension": ".py",
   "mimetype": "text/x-python",
   "name": "python",
   "nbconvert_exporter": "python",
   "pygments_lexer": "ipython3",
   "version": "3.11.6"
  }
 },
 "nbformat": 4,
 "nbformat_minor": 5
}

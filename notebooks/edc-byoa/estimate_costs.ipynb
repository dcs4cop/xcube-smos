{
 "cells": [
  {
   "cell_type": "markdown",
   "id": "349b4a1c-b2e1-4d34-8c55-227a0b163911",
   "metadata": {},
   "source": [
    "# Estimate the costs for a SMOS Level 2C Datacube\n",
    "\n",
    "**CAUTION:** The following cell must be identical to the corresponding one in `notebook.ipynb`."
   ]
  },
  {
   "cell_type": "code",
   "execution_count": 1,
   "id": "6d0b642b",
   "metadata": {
    "tags": [
     "parameters"
    ]
   },
   "outputs": [],
   "source": [
    "product_type: str = \"SMOS-L2C-SM\"   # The product type. Either \"SMOS-L2C-SM\" or \"SMOS-L2C-OS\".\n",
    "time_range: str = \"2022-01-01/2022-01-03\" # The time range using format \"<start>/<end>\".\n",
    "agg_interval: str = \"1d\"  # Aggregation intervall\n",
    "res_level: int = 0  # Spatial resolution level in the range 0 to 4. Zero refers to max."
   ]
  },
  {
   "cell_type": "code",
   "execution_count": 2,
   "id": "bbf473fd-9cfe-4ad1-9b15-c4522f2dad48",
   "metadata": {},
   "outputs": [],
   "source": [
    "import scrapbook\n",
    "import pandas as pd\n",
    "from helpers import get_time_ranges"
   ]
  },
  {
   "cell_type": "code",
   "execution_count": 3,
   "id": "1fb22a8c",
   "metadata": {},
   "outputs": [],
   "source": [
    "time_ranges = get_time_ranges(time_range, agg_interval)\n",
    "\n",
    "# There are ~29 SMOS product files per day\n",
    "num_input_files = 29 * len(time_ranges) \n",
    "\n",
    "if agg_interval:\n",
    "    start = time_ranges[0][0]\n",
    "    stop = time_ranges[1][1]\n",
    "    num_output_steps = int((pd.Timestamp(stop) - pd.Timestamp(start)) \n",
    "                           / pd.Timedelta(agg_interval))\n",
    "else:\n",
    "    num_output_steps = num_input_files\n",
    "\n",
    "# Max image output resolution in pixels\n",
    "max_x = 8192\n",
    "max_y = 4032\n",
    "\n",
    "num_output_pixels = (max_x * max_y) / 2 ** res_level\n",
    "\n",
    "num_output_voxels = num_output_pixels * num_output_steps"
   ]
  },
  {
   "cell_type": "code",
   "execution_count": 4,
   "id": "a4b304ed-9bda-44a3-be14-763024d2ea4b",
   "metadata": {},
   "outputs": [],
   "source": [
    "def compute_price(num_input_files: int, num_output_voxels: int) -> int:\n",
    "    a = 1.0   # cost of an input SMOS file\n",
    "    b = 1e-6  # cost of an output datacube voxel\n",
    "    return a * num_input_files + b * num_output_voxels"
   ]
  },
  {
   "cell_type": "code",
   "execution_count": 5,
   "id": "012ef28a-2f04-465d-b14a-e654bd9d4e67",
   "metadata": {},
   "outputs": [
    {
     "data": {
      "text/plain": [
       "120.030144"
      ]
     },
     "execution_count": 5,
     "metadata": {},
     "output_type": "execute_result"
    }
   ],
   "source": [
    "price = compute_price(num_input_files, num_output_voxels)\n",
    "price"
   ]
  },
  {
   "cell_type": "code",
   "execution_count": 6,
   "id": "a1ef2813",
   "metadata": {},
   "outputs": [
    {
     "data": {
      "application/scrapbook.scrap.json+json": {
       "data": 120.030144,
       "encoder": "json",
       "name": "",
       "version": 1
      }
     },
     "metadata": {
      "scrapbook": {
       "data": true,
       "display": false,
       "name": ""
      }
     },
     "output_type": "display_data"
    }
   ],
   "source": [
    "# Transmit the price to the EDC platform\n",
    "scrapbook.glue(\"\", price)"
   ]
  },
  {
   "cell_type": "code",
   "execution_count": null,
   "id": "2e6e9952-0a22-449f-aaf1-893a9e747dba",
   "metadata": {},
   "outputs": [],
   "source": []
  }
 ],
 "metadata": {
  "celltoolbar": "Tags",
  "kernelspec": {
   "display_name": "Python 3 (ipykernel)",
   "language": "python",
   "name": "python3"
  },
  "language_info": {
   "codemirror_mode": {
    "name": "ipython",
    "version": 3
   },
   "file_extension": ".py",
   "mimetype": "text/x-python",
   "name": "python",
   "nbconvert_exporter": "python",
   "pygments_lexer": "ipython3",
   "version": "3.11.6"
  }
 },
 "nbformat": 4,
 "nbformat_minor": 5
}

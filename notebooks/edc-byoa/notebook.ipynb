{
 "cells": [
  {
   "cell_type": "markdown",
   "id": "14ed5b7f-5912-45a2-a335-dfe1ddca303d",
   "metadata": {},
   "source": [
    "# Generate SMOS Level 2C Datacube\n",
    "\n",
    "This NB is supposed to be executed using [Papermill](https://papermill.readthedocs.io/).\n",
    "The following cell defines the input parameters with their default values.\n",
    "The cell is therefore tagged with the label `parameters`.\n",
    "When executed with Papermill, the default parameters will be overwritten by the parameters \n",
    "supplied to the `papermill` tool in a new cell below the next one.\n",
    "\n",
    "**CAUTION:** The following cell must be identical to the corresponding one in `estimate_costs.ipynb`."
   ]
  },
  {
   "cell_type": "code",
   "execution_count": 1,
   "id": "9e616dd7-63d8-42cf-bf5f-d7536baa3c32",
   "metadata": {
    "tags": [
     "parameters"
    ]
   },
   "outputs": [],
   "source": [
    "product_type: str = \"SMOS-L2C-SM\"   # The SMOS product type, must be 'SMOS-L2C-SM' or 'SMOS-L2C-OS'.\n",
    "time_range: str = \"2022-01-01/2022-01-03\" # Date range given as closed interval '<first>/<last>' with first and last having format 'YYYY-MM-DD'.\n",
    "agg_interval: str = \"1D\"  # The averaging interval such as '1D', '2D', '1W', or empty, which means no aggregation.\n",
    "res_level: int = 0  # Spatial resolution level in the range 0 to 4. Actual resolution in degrees is 360/8192 * 2^res_level."
   ]
  },
  {
   "cell_type": "code",
   "execution_count": 2,
   "id": "a4da43cf-14bf-4d1b-ae0d-f5255294b5a0",
   "metadata": {},
   "outputs": [],
   "source": [
    "# On EDC, this is a fixed path that receives the output of this NB.\n",
    "# The data written here will end up in a unique location for every job run.\n",
    "EDC_OUTPUT_DIR = \"/home/jovyan/result-data\""
   ]
  },
  {
   "cell_type": "code",
   "execution_count": 3,
   "id": "85995e28-ae98-4d7f-a040-419931009977",
   "metadata": {
    "tags": []
   },
   "outputs": [],
   "source": [
    "import json\n",
    "import math\n",
    "import os\n",
    "import shutil\n",
    "\n",
    "from xcube.core.store import new_data_store\n",
    "from zappend.api import zappend\n",
    "\n",
    "from helpers import generate_slices\n",
    "from helpers import get_time_ranges"
   ]
  },
  {
   "cell_type": "code",
   "execution_count": 4,
   "id": "2b6f393f-8648-48d1-a5bf-b3635fe417ae",
   "metadata": {},
   "outputs": [],
   "source": [
    "if os.path.exists(EDC_OUTPUT_DIR):\n",
    "    output_dir = EDC_OUTPUT_DIR\n",
    "else:\n",
    "    output_dir = \"./output\"\n",
    "    if not os.path.exists(output_dir):\n",
    "        os.mkdir(output_dir)"
   ]
  },
  {
   "cell_type": "code",
   "execution_count": 5,
   "id": "dc1b5576-bdf7-43ea-a009-8c86529e9ff4",
   "metadata": {},
   "outputs": [
    {
     "data": {
      "text/plain": [
       "'./output/SMOS-L2C-SM-20220101-20220103-1D-res0.zarr'"
      ]
     },
     "execution_count": 5,
     "metadata": {},
     "output_type": "execute_result"
    }
   ],
   "source": [
    "target_filename = f\"{product_type}-{time_range.replace('-', '').replace('/', '-')}-{agg_interval}-res{res_level}.zarr\"\n",
    "target_dir = f'{output_dir}/{target_filename}'\n",
    "target_dir"
   ]
  },
  {
   "cell_type": "code",
   "execution_count": 6,
   "id": "ca6023b8-a7b9-4d78-a655-6a0853c253e4",
   "metadata": {},
   "outputs": [],
   "source": [
    "if os.path.exists(target_dir):\n",
    "   shutil.rmtree(target_dir) "
   ]
  },
  {
   "cell_type": "code",
   "execution_count": 7,
   "id": "7c8c7eec-1fb4-4d24-a9a7-8a326c9f64d9",
   "metadata": {},
   "outputs": [
    {
     "data": {
      "text/plain": [
       "[('2022-01-01', '2022-01-01'),\n",
       " ('2022-01-02', '2022-01-02'),\n",
       " ('2022-01-03', '2022-01-03')]"
      ]
     },
     "execution_count": 7,
     "metadata": {},
     "output_type": "execute_result"
    }
   ],
   "source": [
    "time_ranges = get_time_ranges(time_range, agg_interval)\n",
    "time_ranges"
   ]
  },
  {
   "cell_type": "code",
   "execution_count": 8,
   "id": "87c202cf-3378-472a-ba99-c755a05aa203",
   "metadata": {
    "tags": []
   },
   "outputs": [],
   "source": [
    "try:\n",
    "    with open(\"creodias-credentials.json\") as f:\n",
    "        creodias_credentials = json.load(f)\n",
    "except FileNotFoundException:\n",
    "    creodias_credentials = {\n",
    "        \"key\": os.environ(\"CREODIAS_S3_KEY\"),\n",
    "        \"secret\": os.environ(\"CREODIAS_S3_SECRET\")\n",
    "    }"
   ]
  },
  {
   "cell_type": "code",
   "execution_count": 9,
   "id": "19ddf85f-1ab5-4094-899f-98149b809106",
   "metadata": {
    "tags": []
   },
   "outputs": [],
   "source": [
    "smos_store = new_data_store(\n",
    "    'smos', \n",
    "    source_path=\"s3://EODATA\", \n",
    "    source_storage_options=dict(\n",
    "        endpoint_url=\"https://s3.cloudferro.com\", \n",
    "        anon=False, \n",
    "        **creodias_credentials\n",
    "    ),\n",
    "    cache_path=\"./nc_cache\",\n",
    "    xarray_kwargs=dict(\n",
    "        engine=\"h5netcdf\"\n",
    "        #engine=\"netcdf4\"\n",
    "    )\n",
    ")"
   ]
  },
  {
   "cell_type": "code",
   "execution_count": 10,
   "id": "f83b23d1-b042-4a6f-93b5-942bdd5350f0",
   "metadata": {},
   "outputs": [],
   "source": [
    "res_factor = 2 ** res_level\n",
    "\n",
    "max_width = 8192\n",
    "max_height = 4032\n",
    "\n",
    "width = max_width // res_factor\n",
    "height = max_height // res_factor\n",
    "\n",
    "tile_width = max(max_width // 4, width)\n",
    "tile_height = max(max_height // 4, height)\n",
    "\n",
    "time_chunk_size = 128"
   ]
  },
  {
   "cell_type": "code",
   "execution_count": 11,
   "id": "83e707f8-16fa-47cf-85fe-274cc8a586f5",
   "metadata": {},
   "outputs": [],
   "source": [
    "zappend_config = {\n",
    "    \"target_dir\": target_dir, \n",
    "    \n",
    "    \"fixed_dims\": {\n",
    "        \"lon\": width,\n",
    "        \"lat\": height\n",
    "    },\n",
    "    \n",
    "    \"append_dim\": \"time\",\n",
    "    \n",
    "    \"variables\": {\n",
    "        \"*\": {\n",
    "            \"encoding\": {\n",
    "                \"chunks\": [1, tile_height, tile_width]\n",
    "            }\n",
    "        },\n",
    "        \"time\": {\n",
    "            \"encoding\": {\n",
    "                \"chunks\": [time_chunk_size]\n",
    "            }\n",
    "        },\n",
    "        \"time_bnds\": {\n",
    "            \"encoding\": {\n",
    "                \"chunks\": [time_chunk_size, 2]\n",
    "            }\n",
    "        },\n",
    "        \"lat\": {\n",
    "            \"encoding\": {\n",
    "                \"chunks\": [height]\n",
    "            }\n",
    "        },\n",
    "        \"lon\": {\n",
    "            \"encoding\": {\n",
    "                \"chunks\": [width]\n",
    "            }\n",
    "        },\n",
    "    },\n",
    "    \n",
    "    # Log to the console.\n",
    "    # Note you could also configure the log output for dask here.\n",
    "    \"logging\": {\n",
    "        \"version\": 1,\n",
    "        \"formatters\": {\n",
    "            \"normal\": {\n",
    "                \"format\": \"%(asctime)s %(levelname)s %(message)s\",\n",
    "                \"style\": \"%\"\n",
    "            }\n",
    "        },\n",
    "        \"handlers\": {\n",
    "            \"console\": {\n",
    "                \"class\": \"logging.StreamHandler\",\n",
    "                \"formatter\": \"normal\"\n",
    "            }\n",
    "        },\n",
    "        \"loggers\": {\n",
    "            \"zappend\": {\n",
    "                \"level\": \"INFO\",\n",
    "                \"handlers\": [\"console\"]\n",
    "            },\n",
    "            \"notebook\": {\n",
    "                \"level\": \"INFO\",\n",
    "                \"handlers\": [\"console\"]\n",
    "            },\n",
    "            #\"xcube-smos\": {\n",
    "            #    \"level\": \"DEBUG\",\n",
    "            #    \"handlers\": [\"console\"]\n",
    "            #}\n",
    "        }\n",
    "    }\n",
    "}\n",
    "# zappend_config"
   ]
  },
  {
   "cell_type": "code",
   "execution_count": null,
   "id": "2c2067f8-ce17-4670-88db-bbc968104197",
   "metadata": {},
   "outputs": [
    {
     "name": "stderr",
     "output_type": "stream",
     "text": [
      "2024-01-19 18:06:23,952 INFO Writing slice 1 of 29 to ./temp-2022-01-01-2022-01-01/slice-0.nc\n",
      "2024-01-19 18:06:25,651 INFO Writing slice 2 of 29 to ./temp-2022-01-01-2022-01-01/slice-1.nc\n",
      "2024-01-19 18:06:27,298 INFO Writing slice 3 of 29 to ./temp-2022-01-01-2022-01-01/slice-2.nc\n",
      "2024-01-19 18:06:28,952 INFO Writing slice 4 of 29 to ./temp-2022-01-01-2022-01-01/slice-3.nc\n",
      "2024-01-19 18:06:30,598 INFO Writing slice 5 of 29 to ./temp-2022-01-01-2022-01-01/slice-4.nc\n",
      "2024-01-19 18:06:32,232 INFO Writing slice 6 of 29 to ./temp-2022-01-01-2022-01-01/slice-5.nc\n",
      "2024-01-19 18:06:33,897 INFO Writing slice 7 of 29 to ./temp-2022-01-01-2022-01-01/slice-6.nc\n",
      "2024-01-19 18:06:35,538 INFO Writing slice 8 of 29 to ./temp-2022-01-01-2022-01-01/slice-7.nc\n",
      "2024-01-19 18:06:37,166 INFO Writing slice 9 of 29 to ./temp-2022-01-01-2022-01-01/slice-8.nc\n",
      "2024-01-19 18:06:38,800 INFO Writing slice 10 of 29 to ./temp-2022-01-01-2022-01-01/slice-9.nc\n",
      "2024-01-19 18:06:40,435 INFO Writing slice 11 of 29 to ./temp-2022-01-01-2022-01-01/slice-10.nc\n",
      "2024-01-19 18:06:42,104 INFO Writing slice 12 of 29 to ./temp-2022-01-01-2022-01-01/slice-11.nc\n",
      "2024-01-19 18:06:43,788 INFO Writing slice 13 of 29 to ./temp-2022-01-01-2022-01-01/slice-12.nc\n",
      "2024-01-19 18:06:45,473 INFO Writing slice 14 of 29 to ./temp-2022-01-01-2022-01-01/slice-13.nc\n",
      "2024-01-19 18:06:47,203 INFO Writing slice 15 of 29 to ./temp-2022-01-01-2022-01-01/slice-14.nc\n",
      "2024-01-19 18:06:48,870 INFO Writing slice 16 of 29 to ./temp-2022-01-01-2022-01-01/slice-15.nc\n",
      "2024-01-19 18:06:50,516 INFO Writing slice 17 of 29 to ./temp-2022-01-01-2022-01-01/slice-16.nc\n",
      "2024-01-19 18:06:52,208 INFO Writing slice 18 of 29 to ./temp-2022-01-01-2022-01-01/slice-17.nc\n",
      "2024-01-19 18:06:53,845 INFO Writing slice 19 of 29 to ./temp-2022-01-01-2022-01-01/slice-18.nc\n",
      "2024-01-19 18:06:55,514 INFO Writing slice 20 of 29 to ./temp-2022-01-01-2022-01-01/slice-19.nc\n",
      "2024-01-19 18:06:57,184 INFO Writing slice 21 of 29 to ./temp-2022-01-01-2022-01-01/slice-20.nc\n",
      "2024-01-19 18:06:58,839 INFO Writing slice 22 of 29 to ./temp-2022-01-01-2022-01-01/slice-21.nc\n",
      "2024-01-19 18:07:00,544 INFO Writing slice 23 of 29 to ./temp-2022-01-01-2022-01-01/slice-22.nc\n",
      "2024-01-19 18:07:02,195 INFO Writing slice 24 of 29 to ./temp-2022-01-01-2022-01-01/slice-23.nc\n",
      "2024-01-19 18:07:03,871 INFO Writing slice 25 of 29 to ./temp-2022-01-01-2022-01-01/slice-24.nc\n",
      "2024-01-19 18:07:05,580 INFO Writing slice 26 of 29 to ./temp-2022-01-01-2022-01-01/slice-25.nc\n",
      "2024-01-19 18:07:07,228 INFO Writing slice 27 of 29 to ./temp-2022-01-01-2022-01-01/slice-26.nc\n",
      "2024-01-19 18:07:08,847 INFO Writing slice 28 of 29 to ./temp-2022-01-01-2022-01-01/slice-27.nc\n",
      "2024-01-19 18:07:10,539 INFO Writing slice 29 of 29 to ./temp-2022-01-01-2022-01-01/slice-28.nc\n",
      "2024-01-19 18:07:11,307 INFO Writing mean slice to ./temp-2022-01-01-2022-01-01.zarr\n",
      "2024-01-19 18:08:05,067 INFO Removing temporary ./temp-2022-01-01-2022-01-01\n",
      "2024-01-19 18:08:05,434 WARNING Ignoring unknown encoding settings: _Unsigned\n",
      "2024-01-19 18:08:05,435 WARNING Ignoring unknown encoding settings: _Unsigned\n",
      "2024-01-19 18:08:05,436 WARNING Ignoring unknown encoding settings: _Unsigned\n",
      "2024-01-19 18:08:05,436 WARNING Ignoring unknown encoding settings: _Unsigned\n",
      "2024-01-19 18:08:05,437 WARNING Ignoring unknown encoding settings: _Unsigned\n",
      "2024-01-19 18:08:05,446 INFO Creating target dataset ./output/SMOS-L2C-SM-20220101-20220103-1D-res0.zarr\n",
      "2024-01-19 18:08:06,430 INFO Transaction completed.\n",
      "2024-01-19 18:08:06,431 INFO Removing temporary ./temp-2022-01-01-2022-01-01.zarr\n",
      "2024-01-19 18:08:10,717 INFO Writing slice 1 of 29 to ./temp-2022-01-02-2022-01-02/slice-0.nc\n",
      "2024-01-19 18:08:12,326 INFO Writing slice 2 of 29 to ./temp-2022-01-02-2022-01-02/slice-1.nc\n",
      "2024-01-19 18:08:13,947 INFO Writing slice 3 of 29 to ./temp-2022-01-02-2022-01-02/slice-2.nc\n",
      "2024-01-19 18:08:15,565 INFO Writing slice 4 of 29 to ./temp-2022-01-02-2022-01-02/slice-3.nc\n",
      "2024-01-19 18:08:17,202 INFO Writing slice 5 of 29 to ./temp-2022-01-02-2022-01-02/slice-4.nc\n",
      "2024-01-19 18:08:18,820 INFO Writing slice 6 of 29 to ./temp-2022-01-02-2022-01-02/slice-5.nc\n",
      "2024-01-19 18:08:20,469 INFO Writing slice 7 of 29 to ./temp-2022-01-02-2022-01-02/slice-6.nc\n",
      "2024-01-19 18:08:22,074 INFO Writing slice 8 of 29 to ./temp-2022-01-02-2022-01-02/slice-7.nc\n",
      "2024-01-19 18:08:23,703 INFO Writing slice 9 of 29 to ./temp-2022-01-02-2022-01-02/slice-8.nc\n",
      "2024-01-19 18:08:25,334 INFO Writing slice 10 of 29 to ./temp-2022-01-02-2022-01-02/slice-9.nc\n",
      "2024-01-19 18:08:26,944 INFO Writing slice 11 of 29 to ./temp-2022-01-02-2022-01-02/slice-10.nc\n",
      "2024-01-19 18:08:28,563 INFO Writing slice 12 of 29 to ./temp-2022-01-02-2022-01-02/slice-11.nc\n",
      "2024-01-19 18:08:30,163 INFO Writing slice 13 of 29 to ./temp-2022-01-02-2022-01-02/slice-12.nc\n",
      "2024-01-19 18:08:31,768 INFO Writing slice 14 of 29 to ./temp-2022-01-02-2022-01-02/slice-13.nc\n",
      "2024-01-19 18:08:33,404 INFO Writing slice 15 of 29 to ./temp-2022-01-02-2022-01-02/slice-14.nc\n",
      "2024-01-19 18:08:35,019 INFO Writing slice 16 of 29 to ./temp-2022-01-02-2022-01-02/slice-15.nc\n",
      "2024-01-19 18:08:36,677 INFO Writing slice 17 of 29 to ./temp-2022-01-02-2022-01-02/slice-16.nc\n",
      "2024-01-19 18:08:38,315 INFO Writing slice 18 of 29 to ./temp-2022-01-02-2022-01-02/slice-17.nc\n",
      "2024-01-19 18:08:40,017 INFO Writing slice 19 of 29 to ./temp-2022-01-02-2022-01-02/slice-18.nc\n",
      "2024-01-19 18:08:41,636 INFO Writing slice 20 of 29 to ./temp-2022-01-02-2022-01-02/slice-19.nc\n",
      "2024-01-19 18:08:43,280 INFO Writing slice 21 of 29 to ./temp-2022-01-02-2022-01-02/slice-20.nc\n",
      "2024-01-19 18:08:44,934 INFO Writing slice 22 of 29 to ./temp-2022-01-02-2022-01-02/slice-21.nc\n",
      "2024-01-19 18:08:46,596 INFO Writing slice 23 of 29 to ./temp-2022-01-02-2022-01-02/slice-22.nc\n",
      "2024-01-19 18:08:48,279 INFO Writing slice 24 of 29 to ./temp-2022-01-02-2022-01-02/slice-23.nc\n",
      "2024-01-19 18:08:49,926 INFO Writing slice 25 of 29 to ./temp-2022-01-02-2022-01-02/slice-24.nc\n",
      "2024-01-19 18:08:51,559 INFO Writing slice 26 of 29 to ./temp-2022-01-02-2022-01-02/slice-25.nc\n",
      "2024-01-19 18:08:53,211 INFO Writing slice 27 of 29 to ./temp-2022-01-02-2022-01-02/slice-26.nc\n",
      "2024-01-19 18:08:54,843 INFO Writing slice 28 of 29 to ./temp-2022-01-02-2022-01-02/slice-27.nc\n",
      "2024-01-19 18:08:56,463 INFO Writing slice 29 of 29 to ./temp-2022-01-02-2022-01-02/slice-28.nc\n",
      "2024-01-19 18:08:57,687 INFO Writing mean slice to ./temp-2022-01-02-2022-01-02.zarr\n",
      "2024-01-19 18:09:51,496 INFO Removing temporary ./temp-2022-01-02-2022-01-02\n",
      "2024-01-19 18:09:51,638 WARNING Ignoring unknown encoding settings: _Unsigned\n",
      "2024-01-19 18:09:51,638 WARNING Ignoring unknown encoding settings: _Unsigned\n",
      "2024-01-19 18:09:51,639 WARNING Ignoring unknown encoding settings: _Unsigned\n",
      "2024-01-19 18:09:51,640 WARNING Ignoring unknown encoding settings: _Unsigned\n",
      "2024-01-19 18:09:51,641 WARNING Ignoring unknown encoding settings: _Unsigned\n",
      "2024-01-19 18:09:51,643 INFO Updating target dataset ./output/SMOS-L2C-SM-20220101-20220103-1D-res0.zarr\n",
      "2024-01-19 18:09:52,872 INFO Transaction completed.\n",
      "2024-01-19 18:09:52,873 INFO Removing temporary ./temp-2022-01-02-2022-01-02.zarr\n",
      "2024-01-19 18:11:14,153 INFO Writing slice 1 of 28 to ./temp-2022-01-03-2022-01-03/slice-0.nc\n",
      "2024-01-19 18:12:09,615 INFO Writing slice 2 of 28 to ./temp-2022-01-03-2022-01-03/slice-1.nc\n"
     ]
    }
   ],
   "source": [
    "slices = generate_slices(smos_store, product_type, time_ranges, agg_interval, res_level)\n",
    "zappend(slices, config=zappend_config)"
   ]
  },
  {
   "cell_type": "code",
   "execution_count": null,
   "id": "cb0b707a-7ac6-4d86-87fd-5c332aaeb841",
   "metadata": {},
   "outputs": [],
   "source": []
  }
 ],
 "metadata": {
  "kernelspec": {
   "display_name": "Python 3 (ipykernel)",
   "language": "python",
   "name": "python3"
  },
  "language_info": {
   "codemirror_mode": {
    "name": "ipython",
    "version": 3
   },
   "file_extension": ".py",
   "mimetype": "text/x-python",
   "name": "python",
   "nbconvert_exporter": "python",
   "pygments_lexer": "ipython3",
   "version": "3.11.6"
  }
 },
 "nbformat": 4,
 "nbformat_minor": 5
}

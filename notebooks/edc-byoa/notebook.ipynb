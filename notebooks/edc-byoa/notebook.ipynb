{
 "cells": [
  {
   "cell_type": "markdown",
   "id": "14ed5b7f-5912-45a2-a335-dfe1ddca303d",
   "metadata": {},
   "source": [
    "# Generate SMOS Level 2C Datacube\n",
    "\n",
    "This NB is supposed to be executed using [Papermill](https://papermill.readthedocs.io/).\n",
    "The following cell defines the input parameters with their default values.\n",
    "The cell is therefore tagged with the label `parameters`.\n",
    "When executed with Papermill, the default parameters will be overwritten by the parameters \n",
    "supplied to the `papermill` tool in a new cell below the next one.\n",
    "\n",
    "**CAUTION:** The following cell must be identical to the corresponding one in `estimate_costs.ipynb`."
   ]
  },
  {
   "cell_type": "code",
   "execution_count": 1,
   "id": "9e616dd7-63d8-42cf-bf5f-d7536baa3c32",
   "metadata": {
    "tags": [
     "parameters"
    ]
   },
   "outputs": [],
   "source": [
    "product_type: str = \"SMOS-L2C-SM\"   # The product type. Either \"SMOS-L2C-SM\" or \"SMOS-L2C-OS\".\n",
    "time_range: str = \"2022-01-01/2022-01-03\" # The time range using format \"<start>/<end>\".\n",
    "agg_interval: str = \"1d\"  # Aggregation intervall\n",
    "res_level: int = 0  # Spatial resolution level in the range 0 to 4. Zero refers to max."
   ]
  },
  {
   "cell_type": "code",
   "execution_count": 2,
   "id": "a4da43cf-14bf-4d1b-ae0d-f5255294b5a0",
   "metadata": {},
   "outputs": [],
   "source": [
    "# On EDC, this is a fixed path that receives the output of this NB.\n",
    "# The data written here will end up in a unique location for every job run.\n",
    "EDC_OUTPUT_DIR = \"/home/jovyan/result-data\""
   ]
  },
  {
   "cell_type": "code",
   "execution_count": 3,
   "id": "85995e28-ae98-4d7f-a040-419931009977",
   "metadata": {
    "tags": []
   },
   "outputs": [],
   "source": [
    "import json\n",
    "import os\n",
    "import shutil\n",
    "\n",
    "from xcube.core.store import new_data_store\n",
    "from zappend.api import zappend\n",
    "\n",
    "from helpers import generate_slices\n",
    "from helpers import get_time_ranges"
   ]
  },
  {
   "cell_type": "code",
   "execution_count": 4,
   "id": "2b6f393f-8648-48d1-a5bf-b3635fe417ae",
   "metadata": {},
   "outputs": [],
   "source": [
    "if os.path.exists(EDC_OUTPUT_DIR):\n",
    "    output_dir = EDC_OUTPUT_DIR\n",
    "else:\n",
    "    output_dir = \"./output\"\n",
    "    if not os.path.exists(output_dir):\n",
    "        os.mkdir(output_dir)"
   ]
  },
  {
   "cell_type": "code",
   "execution_count": 5,
   "id": "dc1b5576-bdf7-43ea-a009-8c86529e9ff4",
   "metadata": {},
   "outputs": [
    {
     "data": {
      "text/plain": [
       "'./output/smos-20220101-20220103-1d.zarr'"
      ]
     },
     "execution_count": 5,
     "metadata": {},
     "output_type": "execute_result"
    }
   ],
   "source": [
    "target_filename = f\"smos-{time_range.replace('-', '').replace('/', '-')}-{agg_interval}.zarr\"\n",
    "target_dir = f'{output_dir}/{target_filename}'\n",
    "target_dir"
   ]
  },
  {
   "cell_type": "code",
   "execution_count": 6,
   "id": "ca6023b8-a7b9-4d78-a655-6a0853c253e4",
   "metadata": {},
   "outputs": [],
   "source": [
    "if os.path.exists(target_dir):\n",
    "   shutil.rmtree(target_dir) "
   ]
  },
  {
   "cell_type": "code",
   "execution_count": 7,
   "id": "7c8c7eec-1fb4-4d24-a9a7-8a326c9f64d9",
   "metadata": {},
   "outputs": [
    {
     "data": {
      "text/plain": [
       "[('2022-01-01', '2022-01-01'),\n",
       " ('2022-01-02', '2022-01-02'),\n",
       " ('2022-01-03', '2022-01-03')]"
      ]
     },
     "execution_count": 7,
     "metadata": {},
     "output_type": "execute_result"
    }
   ],
   "source": [
    "time_ranges = get_time_ranges(time_range, agg_interval)\n",
    "time_ranges"
   ]
  },
  {
   "cell_type": "code",
   "execution_count": 8,
   "id": "87c202cf-3378-472a-ba99-c755a05aa203",
   "metadata": {
    "tags": []
   },
   "outputs": [],
   "source": [
    "try:\n",
    "    with open(\"creodias-credentials.json\") as f:\n",
    "        creodias_credentials = json.load(f)\n",
    "except FileNotFoundException:\n",
    "    creodias_credentials = {\n",
    "        \"key\": os.environ(\"CREODIAS_S3_KEY\"),\n",
    "        \"secret\": os.environ(\"CREODIAS_S3_SECRET\")\n",
    "    }"
   ]
  },
  {
   "cell_type": "code",
   "execution_count": 9,
   "id": "19ddf85f-1ab5-4094-899f-98149b809106",
   "metadata": {
    "tags": []
   },
   "outputs": [],
   "source": [
    "smos_store = new_data_store(\n",
    "    'smos', \n",
    "    source_path=\"s3://EODATA\", \n",
    "    source_storage_options=dict(\n",
    "        endpoint_url=\"https://s3.cloudferro.com\", \n",
    "        anon=False, \n",
    "        **creodias_credentials\n",
    "    ),\n",
    "    cache_path=\"./nc_cache\",\n",
    "    xarray_kwargs=dict(\n",
    "        engine=\"h5netcdf\"\n",
    "        #engine=\"netcdf4\"\n",
    "    )\n",
    ")"
   ]
  },
  {
   "cell_type": "code",
   "execution_count": 10,
   "id": "83e707f8-16fa-47cf-85fe-274cc8a586f5",
   "metadata": {},
   "outputs": [],
   "source": [
    "zappend_config = {\n",
    "    \"target_dir\": target_dir, \n",
    "    \n",
    "    \"fixed_dims\": {\n",
    "        \"lon\": 8192,\n",
    "        \"lat\": 4032\n",
    "    },\n",
    "    \n",
    "    \"append_dim\": \"time\",\n",
    "    \n",
    "    \"variables\": {\n",
    "        \"*\": {\n",
    "            \"encoding\": {\n",
    "                \"chunks\": [1, 4032 // 4, 8192 // 4]\n",
    "            }\n",
    "        },\n",
    "        \"time\": {\n",
    "            \"encoding\": {\n",
    "                \"chunks\": [100]\n",
    "            }\n",
    "        },\n",
    "        \"time_bnds\": {\n",
    "            \"encoding\": {\n",
    "                \"chunks\": [100, 2]\n",
    "            }\n",
    "        },\n",
    "        \"lat\": {\n",
    "            \"encoding\": {\n",
    "                \"chunks\": [4032]\n",
    "            }\n",
    "        },\n",
    "        \"lon\": {\n",
    "            \"encoding\": {\n",
    "                \"chunks\": [8192]\n",
    "            }\n",
    "        },\n",
    "    },\n",
    "    \n",
    "    # Log to the console.\n",
    "    # Note you could also configure the log output for dask here.\n",
    "    \"logging\": {\n",
    "        \"version\": 1,\n",
    "        \"formatters\": {\n",
    "            \"normal\": {\n",
    "                \"format\": \"%(asctime)s %(levelname)s %(message)s\",\n",
    "                \"style\": \"%\"\n",
    "            }\n",
    "        },\n",
    "        \"handlers\": {\n",
    "            \"console\": {\n",
    "                \"class\": \"logging.StreamHandler\",\n",
    "                \"formatter\": \"normal\"\n",
    "            }\n",
    "        },\n",
    "        \"loggers\": {\n",
    "            \"zappend\": {\n",
    "                \"level\": \"INFO\",\n",
    "                \"handlers\": [\"console\"]\n",
    "            },\n",
    "            \"notebook\": {\n",
    "                \"level\": \"INFO\",\n",
    "                \"handlers\": [\"console\"]\n",
    "            },\n",
    "            #\"xcube-smos\": {\n",
    "            #    \"level\": \"DEBUG\",\n",
    "            #    \"handlers\": [\"console\"]\n",
    "            #}\n",
    "        }\n",
    "    }\n",
    "}"
   ]
  },
  {
   "cell_type": "code",
   "execution_count": null,
   "id": "2c2067f8-ce17-4670-88db-bbc968104197",
   "metadata": {},
   "outputs": [],
   "source": [
    "slices = generate_slices(smos_store, product_type, time_ranges, agg_interval)\n",
    "zappend(slices, config=zappend_config)"
   ]
  },
  {
   "cell_type": "code",
   "execution_count": null,
   "id": "cb0b707a-7ac6-4d86-87fd-5c332aaeb841",
   "metadata": {},
   "outputs": [],
   "source": []
  }
 ],
 "metadata": {
  "kernelspec": {
   "display_name": "Python 3 (ipykernel)",
   "language": "python",
   "name": "python3"
  },
  "language_info": {
   "codemirror_mode": {
    "name": "ipython",
    "version": 3
   },
   "file_extension": ".py",
   "mimetype": "text/x-python",
   "name": "python",
   "nbconvert_exporter": "python",
   "pygments_lexer": "ipython3",
   "version": "3.11.6"
  }
 },
 "nbformat": 4,
 "nbformat_minor": 5
}

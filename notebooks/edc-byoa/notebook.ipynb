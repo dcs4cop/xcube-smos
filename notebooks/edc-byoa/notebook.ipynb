{
 "cells": [
  {
   "cell_type": "markdown",
   "id": "14ed5b7f-5912-45a2-a335-dfe1ddca303d",
   "metadata": {},
   "source": [
    "# Generate Global SMOS Level-2C/3 Datacube\n",
    "\n",
    "This NB is supposed to be executed using [Papermill](https://papermill.readthedocs.io/).\n",
    "The following cell defines the input parameters with their default values.\n",
    "The cell is therefore tagged with the label `parameters`.\n",
    "When executed with Papermill, the default parameters will be overwritten by the parameters \n",
    "supplied to the `papermill` tool in a new cell below the next one.\n",
    "\n",
    "**CAUTION:** The following cell must be identical to the corresponding one in `estimate_costs.ipynb`."
   ]
  },
  {
   "cell_type": "code",
   "execution_count": 1,
   "id": "9e616dd7-63d8-42cf-bf5f-d7536baa3c32",
   "metadata": {
    "tags": [
     "parameters"
    ]
   },
   "outputs": [],
   "source": [
    "# The SMOS product type, must be 'SMOS-L2C-SM' or 'SMOS-L2C-OS'.\n",
    "product_type: str = \"SMOS-L2C-SM\"\n",
    "\n",
    "# Date range given as closed interval '<first>/<last>' with \n",
    "# first and last having format 'YYYY-MM-DD'.\n",
    "time_range: str = \"2022-01-01/2022-01-03\"  \n",
    "\n",
    "# The averaging interval such as '1D', '2D', '1W', or empty, \n",
    "# which means no aggregation.\n",
    "agg_interval: str = \"1D\"  \n",
    "\n",
    "# Spatial resolution level in the range 0 to 4. \n",
    "# Actual resolution in degrees is (2**res_level)*(360/8192).\n",
    "res_level: int = 0  "
   ]
  },
  {
   "cell_type": "code",
   "execution_count": 2,
   "id": "a4da43cf-14bf-4d1b-ae0d-f5255294b5a0",
   "metadata": {},
   "outputs": [],
   "source": [
    "# On EDC, this is a fixed path that receives the output of this NB.\n",
    "# The data written here will end up in a unique location for every job run.\n",
    "EDC_OUTPUT_DIR = \"/home/jovyan/result-data\""
   ]
  },
  {
   "cell_type": "code",
   "execution_count": 3,
   "id": "85995e28-ae98-4d7f-a040-419931009977",
   "metadata": {
    "tags": []
   },
   "outputs": [],
   "source": [
    "import json\n",
    "import math\n",
    "import os\n",
    "import shutil\n",
    "\n",
    "from xcube.core.store import new_data_store\n",
    "from zappend.api import zappend\n",
    "\n",
    "from helpers import generate_slices\n",
    "from helpers import get_time_ranges"
   ]
  },
  {
   "cell_type": "code",
   "execution_count": 4,
   "id": "2b6f393f-8648-48d1-a5bf-b3635fe417ae",
   "metadata": {},
   "outputs": [],
   "source": [
    "if os.path.exists(EDC_OUTPUT_DIR):\n",
    "    output_dir = EDC_OUTPUT_DIR\n",
    "else:\n",
    "    output_dir = \"./output\"\n",
    "    if not os.path.exists(output_dir):\n",
    "        os.mkdir(output_dir)"
   ]
  },
  {
   "cell_type": "code",
   "execution_count": 5,
   "id": "dc1b5576-bdf7-43ea-a009-8c86529e9ff4",
   "metadata": {},
   "outputs": [
    {
     "data": {
      "text/plain": [
       "'./output/SMOS-L2C-SM-20220101-20220103-1D-res0.zarr'"
      ]
     },
     "execution_count": 5,
     "metadata": {},
     "output_type": "execute_result"
    }
   ],
   "source": [
    "target_filename = f\"{product_type}-{time_range.replace('-', '').replace('/', '-')}-{agg_interval}-res{res_level}.zarr\"\n",
    "target_dir = f'{output_dir}/{target_filename}'\n",
    "target_dir"
   ]
  },
  {
   "cell_type": "code",
   "execution_count": 6,
   "id": "ca6023b8-a7b9-4d78-a655-6a0853c253e4",
   "metadata": {},
   "outputs": [],
   "source": [
    "if os.path.exists(target_dir):\n",
    "   shutil.rmtree(target_dir) "
   ]
  },
  {
   "cell_type": "code",
   "execution_count": 7,
   "id": "7c8c7eec-1fb4-4d24-a9a7-8a326c9f64d9",
   "metadata": {},
   "outputs": [
    {
     "data": {
      "text/plain": [
       "[('2022-01-01', '2022-01-01'),\n",
       " ('2022-01-02', '2022-01-02'),\n",
       " ('2022-01-03', '2022-01-03')]"
      ]
     },
     "execution_count": 7,
     "metadata": {},
     "output_type": "execute_result"
    }
   ],
   "source": [
    "time_ranges = get_time_ranges(time_range, agg_interval)\n",
    "time_ranges"
   ]
  },
  {
   "cell_type": "code",
   "execution_count": 8,
   "id": "87c202cf-3378-472a-ba99-c755a05aa203",
   "metadata": {
    "tags": []
   },
   "outputs": [],
   "source": [
    "try:\n",
    "    with open(\"creodias-credentials.json\") as f:\n",
    "        creodias_credentials = json.load(f)\n",
    "except FileNotFoundException:\n",
    "    creodias_credentials = {\n",
    "        \"key\": os.environ(\"CREODIAS_S3_KEY\"),\n",
    "        \"secret\": os.environ(\"CREODIAS_S3_SECRET\")\n",
    "    }"
   ]
  },
  {
   "cell_type": "code",
   "execution_count": 9,
   "id": "19ddf85f-1ab5-4094-899f-98149b809106",
   "metadata": {
    "tags": []
   },
   "outputs": [],
   "source": [
    "smos_store = new_data_store(\n",
    "    'smos', \n",
    "    source_path=\"s3://EODATA\", \n",
    "    source_storage_options=dict(\n",
    "        endpoint_url=\"https://s3.cloudferro.com\", \n",
    "        anon=False, \n",
    "        **creodias_credentials\n",
    "    ),\n",
    "    cache_path=\"./nc_cache\",\n",
    "    xarray_kwargs=dict(\n",
    "        engine=\"h5netcdf\"\n",
    "        #engine=\"netcdf4\"\n",
    "    )\n",
    ")"
   ]
  },
  {
   "cell_type": "code",
   "execution_count": 10,
   "id": "f83b23d1-b042-4a6f-93b5-942bdd5350f0",
   "metadata": {},
   "outputs": [],
   "source": [
    "res_factor = 2 ** res_level\n",
    "\n",
    "max_width = 8192\n",
    "max_height = 4032\n",
    "\n",
    "width = max_width // res_factor\n",
    "height = max_height // res_factor\n",
    "\n",
    "tile_width = max(max_width // 4, width)\n",
    "tile_height = max(max_height // 4, height)\n",
    "\n",
    "time_chunk_size = 128"
   ]
  },
  {
   "cell_type": "code",
   "execution_count": 11,
   "id": "83e707f8-16fa-47cf-85fe-274cc8a586f5",
   "metadata": {},
   "outputs": [],
   "source": [
    "zappend_config = {\n",
    "    \"target_dir\": target_dir, \n",
    "    \n",
    "    \"fixed_dims\": {\n",
    "        \"lon\": width,\n",
    "        \"lat\": height\n",
    "    },\n",
    "    \n",
    "    \"append_dim\": \"time\",\n",
    "    \n",
    "    \"variables\": {\n",
    "        \"*\": {\n",
    "            \"encoding\": {\n",
    "                \"chunks\": [1, tile_height, tile_width]\n",
    "            }\n",
    "        },\n",
    "        \"time\": {\n",
    "            \"encoding\": {\n",
    "                \"chunks\": [time_chunk_size]\n",
    "            }\n",
    "        },\n",
    "        \"time_bnds\": {\n",
    "            \"encoding\": {\n",
    "                \"chunks\": [time_chunk_size, 2]\n",
    "            }\n",
    "        },\n",
    "        \"lat\": {\n",
    "            \"encoding\": {\n",
    "                \"chunks\": [height]\n",
    "            }\n",
    "        },\n",
    "        \"lon\": {\n",
    "            \"encoding\": {\n",
    "                \"chunks\": [width]\n",
    "            }\n",
    "        },\n",
    "    },\n",
    "    \n",
    "    # Log to the console.\n",
    "    # Note you could also configure the log output for dask here.\n",
    "    \"logging\": {\n",
    "        \"version\": 1,\n",
    "        \"formatters\": {\n",
    "            \"normal\": {\n",
    "                \"format\": \"%(asctime)s %(levelname)s %(message)s\",\n",
    "                \"style\": \"%\"\n",
    "            }\n",
    "        },\n",
    "        \"handlers\": {\n",
    "            \"console\": {\n",
    "                \"class\": \"logging.StreamHandler\",\n",
    "                \"formatter\": \"normal\"\n",
    "            }\n",
    "        },\n",
    "        \"loggers\": {\n",
    "            \"zappend\": {\n",
    "                \"level\": \"INFO\",\n",
    "                \"handlers\": [\"console\"]\n",
    "            },\n",
    "            \"notebook\": {\n",
    "                \"level\": \"INFO\",\n",
    "                \"handlers\": [\"console\"]\n",
    "            },\n",
    "            #\"xcube-smos\": {\n",
    "            #    \"level\": \"DEBUG\",\n",
    "            #    \"handlers\": [\"console\"]\n",
    "            #}\n",
    "        }\n",
    "    }\n",
    "}\n",
    "# zappend_config"
   ]
  },
  {
   "cell_type": "code",
   "execution_count": 12,
   "id": "2c2067f8-ce17-4670-88db-bbc968104197",
   "metadata": {},
   "outputs": [
    {
     "name": "stderr",
     "output_type": "stream",
     "text": [
      "2024-01-23 10:39:37,890 INFO Writing slice 1 of 29 to ./temp-2022-01-01-2022-01-01/slice-0.nc\n",
      "2024-01-23 10:39:40,035 INFO Writing slice 2 of 29 to ./temp-2022-01-01-2022-01-01/slice-1.nc\n",
      "2024-01-23 10:39:42,094 INFO Writing slice 3 of 29 to ./temp-2022-01-01-2022-01-01/slice-2.nc\n",
      "2024-01-23 10:39:44,147 INFO Writing slice 4 of 29 to ./temp-2022-01-01-2022-01-01/slice-3.nc\n",
      "2024-01-23 10:39:46,213 INFO Writing slice 5 of 29 to ./temp-2022-01-01-2022-01-01/slice-4.nc\n",
      "2024-01-23 10:39:48,259 INFO Writing slice 6 of 29 to ./temp-2022-01-01-2022-01-01/slice-5.nc\n",
      "2024-01-23 10:39:50,310 INFO Writing slice 7 of 29 to ./temp-2022-01-01-2022-01-01/slice-6.nc\n",
      "2024-01-23 10:39:52,373 INFO Writing slice 8 of 29 to ./temp-2022-01-01-2022-01-01/slice-7.nc\n",
      "2024-01-23 10:39:54,463 INFO Writing slice 9 of 29 to ./temp-2022-01-01-2022-01-01/slice-8.nc\n",
      "2024-01-23 10:39:56,512 INFO Writing slice 10 of 29 to ./temp-2022-01-01-2022-01-01/slice-9.nc\n",
      "2024-01-23 10:39:58,575 INFO Writing slice 11 of 29 to ./temp-2022-01-01-2022-01-01/slice-10.nc\n",
      "2024-01-23 10:40:00,650 INFO Writing slice 12 of 29 to ./temp-2022-01-01-2022-01-01/slice-11.nc\n",
      "2024-01-23 10:40:02,744 INFO Writing slice 13 of 29 to ./temp-2022-01-01-2022-01-01/slice-12.nc\n",
      "2024-01-23 10:40:04,859 INFO Writing slice 14 of 29 to ./temp-2022-01-01-2022-01-01/slice-13.nc\n",
      "2024-01-23 10:40:06,877 INFO Writing slice 15 of 29 to ./temp-2022-01-01-2022-01-01/slice-14.nc\n",
      "2024-01-23 10:40:08,915 INFO Writing slice 16 of 29 to ./temp-2022-01-01-2022-01-01/slice-15.nc\n",
      "2024-01-23 10:40:10,953 INFO Writing slice 17 of 29 to ./temp-2022-01-01-2022-01-01/slice-16.nc\n",
      "2024-01-23 10:40:13,112 INFO Writing slice 18 of 29 to ./temp-2022-01-01-2022-01-01/slice-17.nc\n",
      "2024-01-23 10:40:15,186 INFO Writing slice 19 of 29 to ./temp-2022-01-01-2022-01-01/slice-18.nc\n",
      "2024-01-23 10:40:17,312 INFO Writing slice 20 of 29 to ./temp-2022-01-01-2022-01-01/slice-19.nc\n",
      "2024-01-23 10:40:19,409 INFO Writing slice 21 of 29 to ./temp-2022-01-01-2022-01-01/slice-20.nc\n",
      "2024-01-23 10:40:21,527 INFO Writing slice 22 of 29 to ./temp-2022-01-01-2022-01-01/slice-21.nc\n",
      "2024-01-23 10:40:23,576 INFO Writing slice 23 of 29 to ./temp-2022-01-01-2022-01-01/slice-22.nc\n",
      "2024-01-23 10:40:25,626 INFO Writing slice 24 of 29 to ./temp-2022-01-01-2022-01-01/slice-23.nc\n",
      "2024-01-23 10:40:27,746 INFO Writing slice 25 of 29 to ./temp-2022-01-01-2022-01-01/slice-24.nc\n",
      "2024-01-23 10:40:30,070 INFO Writing slice 26 of 29 to ./temp-2022-01-01-2022-01-01/slice-25.nc\n",
      "2024-01-23 10:40:32,224 INFO Writing slice 27 of 29 to ./temp-2022-01-01-2022-01-01/slice-26.nc\n",
      "2024-01-23 10:40:34,326 INFO Writing slice 28 of 29 to ./temp-2022-01-01-2022-01-01/slice-27.nc\n",
      "2024-01-23 10:40:36,541 INFO Writing slice 29 of 29 to ./temp-2022-01-01-2022-01-01/slice-28.nc\n",
      "2024-01-23 10:40:37,611 INFO Writing mean slice to ./temp-2022-01-01-2022-01-01.zarr\n",
      "2024-01-23 10:41:48,949 INFO Removing temporary ./temp-2022-01-01-2022-01-01\n",
      "2024-01-23 10:41:49,346 INFO Creating target dataset ./output/SMOS-L2C-SM-20220101-20220103-1D-res0.zarr\n",
      "2024-01-23 10:41:50,566 INFO Transaction completed.\n",
      "2024-01-23 10:41:50,568 INFO Removing temporary ./temp-2022-01-01-2022-01-01.zarr\n",
      "2024-01-23 10:41:57,893 INFO Writing slice 1 of 29 to ./temp-2022-01-02-2022-01-02/slice-0.nc\n",
      "2024-01-23 10:41:59,828 INFO Writing slice 2 of 29 to ./temp-2022-01-02-2022-01-02/slice-1.nc\n",
      "2024-01-23 10:42:01,991 INFO Writing slice 3 of 29 to ./temp-2022-01-02-2022-01-02/slice-2.nc\n",
      "2024-01-23 10:42:03,910 INFO Writing slice 4 of 29 to ./temp-2022-01-02-2022-01-02/slice-3.nc\n",
      "2024-01-23 10:42:05,814 INFO Writing slice 5 of 29 to ./temp-2022-01-02-2022-01-02/slice-4.nc\n",
      "2024-01-23 10:42:07,768 INFO Writing slice 6 of 29 to ./temp-2022-01-02-2022-01-02/slice-5.nc\n",
      "2024-01-23 10:42:09,767 INFO Writing slice 7 of 29 to ./temp-2022-01-02-2022-01-02/slice-6.nc\n",
      "2024-01-23 10:42:11,754 INFO Writing slice 8 of 29 to ./temp-2022-01-02-2022-01-02/slice-7.nc\n",
      "2024-01-23 10:42:13,757 INFO Writing slice 9 of 29 to ./temp-2022-01-02-2022-01-02/slice-8.nc\n",
      "2024-01-23 10:42:15,743 INFO Writing slice 10 of 29 to ./temp-2022-01-02-2022-01-02/slice-9.nc\n",
      "2024-01-23 10:42:17,674 INFO Writing slice 11 of 29 to ./temp-2022-01-02-2022-01-02/slice-10.nc\n",
      "2024-01-23 10:42:19,621 INFO Writing slice 12 of 29 to ./temp-2022-01-02-2022-01-02/slice-11.nc\n",
      "2024-01-23 10:42:21,731 INFO Writing slice 13 of 29 to ./temp-2022-01-02-2022-01-02/slice-12.nc\n",
      "2024-01-23 10:42:23,782 INFO Writing slice 14 of 29 to ./temp-2022-01-02-2022-01-02/slice-13.nc\n",
      "2024-01-23 10:42:25,858 INFO Writing slice 15 of 29 to ./temp-2022-01-02-2022-01-02/slice-14.nc\n",
      "2024-01-23 10:42:27,950 INFO Writing slice 16 of 29 to ./temp-2022-01-02-2022-01-02/slice-15.nc\n",
      "2024-01-23 10:42:30,050 INFO Writing slice 17 of 29 to ./temp-2022-01-02-2022-01-02/slice-16.nc\n",
      "2024-01-23 10:42:32,155 INFO Writing slice 18 of 29 to ./temp-2022-01-02-2022-01-02/slice-17.nc\n",
      "2024-01-23 10:42:34,215 INFO Writing slice 19 of 29 to ./temp-2022-01-02-2022-01-02/slice-18.nc\n",
      "2024-01-23 10:42:36,144 INFO Writing slice 20 of 29 to ./temp-2022-01-02-2022-01-02/slice-19.nc\n",
      "2024-01-23 10:42:38,120 INFO Writing slice 21 of 29 to ./temp-2022-01-02-2022-01-02/slice-20.nc\n",
      "2024-01-23 10:42:40,148 INFO Writing slice 22 of 29 to ./temp-2022-01-02-2022-01-02/slice-21.nc\n",
      "2024-01-23 10:42:42,197 INFO Writing slice 23 of 29 to ./temp-2022-01-02-2022-01-02/slice-22.nc\n",
      "2024-01-23 10:42:44,193 INFO Writing slice 24 of 29 to ./temp-2022-01-02-2022-01-02/slice-23.nc\n",
      "2024-01-23 10:42:46,219 INFO Writing slice 25 of 29 to ./temp-2022-01-02-2022-01-02/slice-24.nc\n",
      "2024-01-23 10:42:48,186 INFO Writing slice 26 of 29 to ./temp-2022-01-02-2022-01-02/slice-25.nc\n",
      "2024-01-23 10:42:50,113 INFO Writing slice 27 of 29 to ./temp-2022-01-02-2022-01-02/slice-26.nc\n",
      "2024-01-23 10:42:52,048 INFO Writing slice 28 of 29 to ./temp-2022-01-02-2022-01-02/slice-27.nc\n",
      "2024-01-23 10:42:53,952 INFO Writing slice 29 of 29 to ./temp-2022-01-02-2022-01-02/slice-28.nc\n",
      "2024-01-23 10:42:55,375 INFO Writing mean slice to ./temp-2022-01-02-2022-01-02.zarr\n",
      "2024-01-23 10:44:03,987 INFO Removing temporary ./temp-2022-01-02-2022-01-02\n",
      "2024-01-23 10:44:04,450 INFO Updating target dataset ./output/SMOS-L2C-SM-20220101-20220103-1D-res0.zarr\n",
      "2024-01-23 10:44:05,671 INFO Transaction completed.\n",
      "2024-01-23 10:44:05,672 INFO Removing temporary ./temp-2022-01-02-2022-01-02.zarr\n",
      "2024-01-23 10:44:10,749 INFO Writing slice 1 of 28 to ./temp-2022-01-03-2022-01-03/slice-0.nc\n",
      "2024-01-23 10:44:12,596 INFO Writing slice 2 of 28 to ./temp-2022-01-03-2022-01-03/slice-1.nc\n",
      "2024-01-23 10:44:14,471 INFO Writing slice 3 of 28 to ./temp-2022-01-03-2022-01-03/slice-2.nc\n",
      "2024-01-23 10:44:16,333 INFO Writing slice 4 of 28 to ./temp-2022-01-03-2022-01-03/slice-3.nc\n",
      "2024-01-23 10:44:18,196 INFO Writing slice 5 of 28 to ./temp-2022-01-03-2022-01-03/slice-4.nc\n",
      "2024-01-23 10:44:20,053 INFO Writing slice 6 of 28 to ./temp-2022-01-03-2022-01-03/slice-5.nc\n",
      "2024-01-23 10:45:16,755 INFO Writing slice 7 of 28 to ./temp-2022-01-03-2022-01-03/slice-6.nc\n",
      "2024-01-23 10:46:04,303 INFO Writing slice 8 of 28 to ./temp-2022-01-03-2022-01-03/slice-7.nc\n",
      "2024-01-23 10:46:39,211 INFO Writing slice 9 of 28 to ./temp-2022-01-03-2022-01-03/slice-8.nc\n",
      "2024-01-23 10:47:46,194 INFO Writing slice 10 of 28 to ./temp-2022-01-03-2022-01-03/slice-9.nc\n",
      "2024-01-23 10:49:01,747 INFO Writing slice 11 of 28 to ./temp-2022-01-03-2022-01-03/slice-10.nc\n",
      "2024-01-23 10:49:55,909 INFO Writing slice 12 of 28 to ./temp-2022-01-03-2022-01-03/slice-11.nc\n",
      "2024-01-23 10:51:27,852 INFO Writing slice 13 of 28 to ./temp-2022-01-03-2022-01-03/slice-12.nc\n",
      "2024-01-23 10:52:08,920 INFO Writing slice 14 of 28 to ./temp-2022-01-03-2022-01-03/slice-13.nc\n",
      "2024-01-23 10:52:54,853 INFO Writing slice 15 of 28 to ./temp-2022-01-03-2022-01-03/slice-14.nc\n",
      "2024-01-23 10:54:12,512 INFO Writing slice 16 of 28 to ./temp-2022-01-03-2022-01-03/slice-15.nc\n",
      "2024-01-23 10:54:56,077 INFO Writing slice 17 of 28 to ./temp-2022-01-03-2022-01-03/slice-16.nc\n",
      "2024-01-23 10:56:31,536 INFO Writing slice 18 of 28 to ./temp-2022-01-03-2022-01-03/slice-17.nc\n",
      "2024-01-23 10:57:17,906 INFO Writing slice 19 of 28 to ./temp-2022-01-03-2022-01-03/slice-18.nc\n",
      "2024-01-23 10:58:46,593 INFO Writing slice 20 of 28 to ./temp-2022-01-03-2022-01-03/slice-19.nc\n",
      "2024-01-23 10:59:27,128 INFO Writing slice 21 of 28 to ./temp-2022-01-03-2022-01-03/slice-20.nc\n",
      "2024-01-23 11:05:35,350 INFO Writing slice 22 of 28 to ./temp-2022-01-03-2022-01-03/slice-21.nc\n",
      "2024-01-23 11:14:18,259 INFO Writing slice 23 of 28 to ./temp-2022-01-03-2022-01-03/slice-22.nc\n",
      "2024-01-23 11:15:23,513 INFO Writing slice 24 of 28 to ./temp-2022-01-03-2022-01-03/slice-23.nc\n",
      "2024-01-23 11:17:22,220 INFO Writing slice 25 of 28 to ./temp-2022-01-03-2022-01-03/slice-24.nc\n",
      "2024-01-23 11:19:22,037 INFO Writing slice 26 of 28 to ./temp-2022-01-03-2022-01-03/slice-25.nc\n",
      "2024-01-23 11:21:16,471 INFO Writing slice 27 of 28 to ./temp-2022-01-03-2022-01-03/slice-26.nc\n",
      "2024-01-23 11:22:57,711 INFO Writing slice 28 of 28 to ./temp-2022-01-03-2022-01-03/slice-27.nc\n",
      "2024-01-23 11:22:58,436 INFO Writing mean slice to ./temp-2022-01-03-2022-01-03.zarr\n",
      "2024-01-23 11:23:48,921 INFO Removing temporary ./temp-2022-01-03-2022-01-03\n",
      "2024-01-23 11:23:49,212 INFO Updating target dataset ./output/SMOS-L2C-SM-20220101-20220103-1D-res0.zarr\n",
      "2024-01-23 11:23:50,193 INFO Transaction completed.\n",
      "2024-01-23 11:23:50,194 INFO Removing temporary ./temp-2022-01-03-2022-01-03.zarr\n"
     ]
    }
   ],
   "source": [
    "slices = generate_slices(smos_store, product_type, time_ranges, agg_interval, res_level)\n",
    "zappend(slices, config=zappend_config)"
   ]
  },
  {
   "cell_type": "code",
   "execution_count": null,
   "id": "cb0b707a-7ac6-4d86-87fd-5c332aaeb841",
   "metadata": {},
   "outputs": [],
   "source": []
  }
 ],
 "metadata": {
  "kernelspec": {
   "display_name": "Python 3 (ipykernel)",
   "language": "python",
   "name": "python3"
  },
  "language_info": {
   "codemirror_mode": {
    "name": "ipython",
    "version": 3
   },
   "file_extension": ".py",
   "mimetype": "text/x-python",
   "name": "python",
   "nbconvert_exporter": "python",
   "pygments_lexer": "ipython3",
   "version": "3.11.6"
  }
 },
 "nbformat": 4,
 "nbformat_minor": 5
}

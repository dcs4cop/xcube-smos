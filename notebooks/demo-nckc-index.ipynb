{
 "cells": [
  {
   "cell_type": "code",
   "execution_count": 1,
   "id": "ba936c93-044f-42ec-8772-4187a22cc9e3",
   "metadata": {},
   "outputs": [],
   "source": [
    "from xcube_smos.nckcindex.nckcindex import NcKcIndex\n",
    "import json"
   ]
  },
  {
   "cell_type": "markdown",
   "id": "2bc626fb-a547-4eec-88d1-c8e299c37464",
   "metadata": {},
   "source": [
    "This notebook demonstrates the Python API of the **SMOS Level-2 Kerchunk Index**."
   ]
  },
  {
   "cell_type": "markdown",
   "id": "160c50d8-fea2-438b-9aeb-397946739324",
   "metadata": {},
   "source": [
    "Note, there is also a CLI version of this API, refer to:"
   ]
  },
  {
   "cell_type": "code",
   "execution_count": 2,
   "id": "e5fd07de-cd03-4bb7-b6a7-b01987d5babc",
   "metadata": {},
   "outputs": [
    {
     "name": "stdout",
     "output_type": "stream",
     "text": [
      "Usage: nckcidx [OPTIONS] COMMAND [ARGS]...\n",
      "\n",
      "  Manage NetCDF Kerchunk indexes.\n",
      "\n",
      "  A NetCDF Kerchunk index is a directory that contains references to NetCDF\n",
      "  files stored in S3. For every NetCDF file in S3, a Kerchunk JSON file is\n",
      "  created and saved. The JSON files are stored in a directory tree that\n",
      "  corresponds to the NetCDF file S3 key prefix relative to the bucket name.\n",
      "\n",
      "  This form of the NetCDF Kerchunk index is useful for NetCDF files that\n",
      "  represent datasets that cannot easily be concatenated along a given or new\n",
      "  dimension, e.g., SMOS Level-2 products.\n",
      "\n",
      "Options:\n",
      "  --debug      Output verbose debugging information. NOT IMPLEMENTED YET.\n",
      "  --traceback  Output stack traceback on errors. NOT IMPLEMENTED YET.\n",
      "  --help       Show this message and exit.\n",
      "\n",
      "Commands:\n",
      "  create  Create a NetCDF Kerchunk index.\n",
      "  info    Inform about a NetCDF Kerchunk index.\n",
      "  sync    Synchronize a NetCDF Kerchunk index.\n"
     ]
    }
   ],
   "source": [
    "!nckcidx --help"
   ]
  },
  {
   "cell_type": "code",
   "execution_count": 3,
   "id": "1e8761ed-dd01-4ce4-a15d-0a603e1f7dbc",
   "metadata": {},
   "outputs": [],
   "source": [
    "with open(\"creodias-credentials.json\") as f:\n",
    "    credentials = json.load(f)\n",
    "\n",
    "# Options for the NetCDF source files on CreoDIAS    \n",
    "s3_options = dict(\n",
    "    **credentials,\n",
    "    endpoint_url=\"https://s3.cloudferro.com\", \n",
    ")  "
   ]
  },
  {
   "cell_type": "markdown",
   "id": "eb49d3e9-a01f-4949-a678-09a8cee799e0",
   "metadata": {},
   "source": [
    "Create a local test index in default folder `./nckc-index`. After execution, find index folder in file browser.  "
   ]
  },
  {
   "cell_type": "code",
   "execution_count": 4,
   "id": "45072a72-38cb-413a-8497-586b936c43cc",
   "metadata": {},
   "outputs": [],
   "source": [
    "fi = NcKcIndex.create(s3_options=s3_options,\n",
    "                      replace_existing=True)"
   ]
  },
  {
   "cell_type": "markdown",
   "id": "fe88a7fe-574f-439b-b4f2-8e6475af360a",
   "metadata": {},
   "source": [
    "Show local index path."
   ]
  },
  {
   "cell_type": "code",
   "execution_count": 5,
   "id": "95099131-993e-41ac-b07f-b852ff615cdc",
   "metadata": {},
   "outputs": [
    {
     "data": {
      "text/plain": [
       "'nckc-index'"
      ]
     },
     "execution_count": 5,
     "metadata": {},
     "output_type": "execute_result"
    }
   ],
   "source": [
    "fi.index_path"
   ]
  },
  {
   "cell_type": "markdown",
   "id": "038f023e-2ab0-4d0e-8ae6-588c9751acb1",
   "metadata": {},
   "source": [
    "Show index configuration. Commented out here because it (still) contains credentials."
   ]
  },
  {
   "cell_type": "code",
   "execution_count": 6,
   "id": "f2d1b9e4-098e-4999-91a4-b877b29e80dc",
   "metadata": {},
   "outputs": [],
   "source": [
    "#fi.index_config"
   ]
  },
  {
   "cell_type": "markdown",
   "id": "d1f52ad5-f1ba-4bf3-8130-eb24e7077ab4",
   "metadata": {},
   "source": [
    "Open the local test index from default folder `./nckc-index`. It is still empty.    "
   ]
  },
  {
   "cell_type": "code",
   "execution_count": 7,
   "id": "0f611b42-7105-4bf1-9f4c-764a2fae6b90",
   "metadata": {},
   "outputs": [
    {
     "data": {
      "text/plain": [
       "'nckc-index'"
      ]
     },
     "execution_count": 7,
     "metadata": {},
     "output_type": "execute_result"
    }
   ],
   "source": [
    "fi = NcKcIndex.open()\n",
    "fi.index_path"
   ]
  },
  {
   "cell_type": "markdown",
   "id": "a63ef256-7e3e-4cdd-a4ed-108d46ff6f7b",
   "metadata": {},
   "source": [
    "Now we are going to index some NetCDF files. We first perform a dry run to check what will happen:"
   ]
  },
  {
   "cell_type": "code",
   "execution_count": 8,
   "id": "6d7bb164-5959-4fc9-bd74-3acff2683b12",
   "metadata": {},
   "outputs": [
    {
     "name": "stdout",
     "output_type": "stream",
     "text": [
      "Indexing s3://EODATA/SMOS/L2SM/MIR_SMUDP2/2023/03/01/SM_OPER_MIR_SMUDP2_20230301T033242_20230301T041728_700_001_1/SM_OPER_MIR_SMUDP2_20230301T033242_20230301T041728_700_001_1.nc\n",
      "Indexing s3://EODATA/SMOS/L2SM/MIR_SMUDP2/2023/03/01/SM_OPER_MIR_SMUDP2_20230301T053947_20230301T060606_700_001_1/SM_OPER_MIR_SMUDP2_20230301T053947_20230301T060606_700_001_1.nc\n",
      "Indexing s3://EODATA/SMOS/L2SM/MIR_SMUDP2/2023/03/01/SM_OPER_MIR_SMUDP2_20230301T074300_20230301T083612_700_001_1/SM_OPER_MIR_SMUDP2_20230301T074300_20230301T083612_700_001_1.nc\n",
      "Indexing s3://EODATA/SMOS/L2SM/MIR_SMUDP2/2023/03/01/SM_OPER_MIR_SMUDP2_20230301T092303_20230301T101617_700_001_1/SM_OPER_MIR_SMUDP2_20230301T092303_20230301T101617_700_001_1.nc\n",
      "Indexing s3://EODATA/SMOS/L2SM/MIR_SMUDP2/2023/03/01/SM_OPER_MIR_SMUDP2_20230301T110308_20230301T115622_700_001_1/SM_OPER_MIR_SMUDP2_20230301T110308_20230301T115622_700_001_1.nc\n",
      "Indexing s3://EODATA/SMOS/L2SM/MIR_SMUDP2/2023/03/01/SM_OPER_MIR_SMUDP2_20230301T133310_20230301T142630_700_001_1/SM_OPER_MIR_SMUDP2_20230301T133310_20230301T142630_700_001_1.nc\n",
      "Indexing s3://EODATA/SMOS/L2SM/MIR_SMUDP2/2023/03/01/SM_OPER_MIR_SMUDP2_20230301T151314_20230301T160633_700_001_1/SM_OPER_MIR_SMUDP2_20230301T151314_20230301T160633_700_001_1.nc\n",
      "Indexing s3://EODATA/SMOS/L2SM/MIR_SMUDP2/2023/03/01/SM_OPER_MIR_SMUDP2_20230301T160321_20230301T165636_700_001_1/SM_OPER_MIR_SMUDP2_20230301T160321_20230301T165636_700_001_1.nc\n",
      "Indexing s3://EODATA/SMOS/L2SM/MIR_SMUDP2/2023/03/01/SM_OPER_MIR_SMUDP2_20230301T174326_20230301T183641_700_001_1/SM_OPER_MIR_SMUDP2_20230301T174326_20230301T183641_700_001_1.nc\n",
      "Indexing s3://EODATA/SMOS/L2SM/MIR_SMUDP2/2023/03/01/SM_OPER_MIR_SMUDP2_20230301T192332_20230301T201645_700_001_1/SM_OPER_MIR_SMUDP2_20230301T192332_20230301T201645_700_001_1.nc\n",
      "Indexing s3://EODATA/SMOS/L2SM/MIR_SMUDP2/2023/03/01/SM_OPER_MIR_SMUDP2_20230301T210336_20230301T215649_700_001_1/SM_OPER_MIR_SMUDP2_20230301T210336_20230301T215649_700_001_1.nc\n",
      "Indexing s3://EODATA/SMOS/L2SM/MIR_SMUDP2/2023/03/01/SM_OPER_MIR_SMUDP2_20230301T224339_20230301T233654_700_001_1/SM_OPER_MIR_SMUDP2_20230301T224339_20230301T233654_700_001_1.nc\n",
      "8min 35s ± 0 ns per loop (mean ± std. dev. of 1 run, 1 loop each)\n"
     ]
    }
   ],
   "source": [
    "%%timeit -n 1 -r 1\n",
    "fi.sync(prefix='SMOS/L2SM/MIR_SMUDP2/2023/03/01/', dry_run=True)"
   ]
  },
  {
   "cell_type": "markdown",
   "id": "55c184b1-d89a-4f55-a055-dff9a36e3fb6",
   "metadata": {},
   "source": [
    "Looks good so we are now going to write index files to disk:"
   ]
  },
  {
   "cell_type": "code",
   "execution_count": 9,
   "id": "e12ee988-b114-47f1-ab05-f01a9ff36469",
   "metadata": {},
   "outputs": [
    {
     "name": "stdout",
     "output_type": "stream",
     "text": [
      "Indexing s3://EODATA/SMOS/L2SM/MIR_SMUDP2/2023/03/01/SM_OPER_MIR_SMUDP2_20230301T033242_20230301T041728_700_001_1/SM_OPER_MIR_SMUDP2_20230301T033242_20230301T041728_700_001_1.nc\n",
      "Indexing s3://EODATA/SMOS/L2SM/MIR_SMUDP2/2023/03/01/SM_OPER_MIR_SMUDP2_20230301T053947_20230301T060606_700_001_1/SM_OPER_MIR_SMUDP2_20230301T053947_20230301T060606_700_001_1.nc\n",
      "Indexing s3://EODATA/SMOS/L2SM/MIR_SMUDP2/2023/03/01/SM_OPER_MIR_SMUDP2_20230301T074300_20230301T083612_700_001_1/SM_OPER_MIR_SMUDP2_20230301T074300_20230301T083612_700_001_1.nc\n",
      "Indexing s3://EODATA/SMOS/L2SM/MIR_SMUDP2/2023/03/01/SM_OPER_MIR_SMUDP2_20230301T092303_20230301T101617_700_001_1/SM_OPER_MIR_SMUDP2_20230301T092303_20230301T101617_700_001_1.nc\n",
      "Indexing s3://EODATA/SMOS/L2SM/MIR_SMUDP2/2023/03/01/SM_OPER_MIR_SMUDP2_20230301T110308_20230301T115622_700_001_1/SM_OPER_MIR_SMUDP2_20230301T110308_20230301T115622_700_001_1.nc\n",
      "Indexing s3://EODATA/SMOS/L2SM/MIR_SMUDP2/2023/03/01/SM_OPER_MIR_SMUDP2_20230301T133310_20230301T142630_700_001_1/SM_OPER_MIR_SMUDP2_20230301T133310_20230301T142630_700_001_1.nc\n",
      "Indexing s3://EODATA/SMOS/L2SM/MIR_SMUDP2/2023/03/01/SM_OPER_MIR_SMUDP2_20230301T151314_20230301T160633_700_001_1/SM_OPER_MIR_SMUDP2_20230301T151314_20230301T160633_700_001_1.nc\n",
      "Indexing s3://EODATA/SMOS/L2SM/MIR_SMUDP2/2023/03/01/SM_OPER_MIR_SMUDP2_20230301T160321_20230301T165636_700_001_1/SM_OPER_MIR_SMUDP2_20230301T160321_20230301T165636_700_001_1.nc\n",
      "Indexing s3://EODATA/SMOS/L2SM/MIR_SMUDP2/2023/03/01/SM_OPER_MIR_SMUDP2_20230301T174326_20230301T183641_700_001_1/SM_OPER_MIR_SMUDP2_20230301T174326_20230301T183641_700_001_1.nc\n",
      "Indexing s3://EODATA/SMOS/L2SM/MIR_SMUDP2/2023/03/01/SM_OPER_MIR_SMUDP2_20230301T192332_20230301T201645_700_001_1/SM_OPER_MIR_SMUDP2_20230301T192332_20230301T201645_700_001_1.nc\n",
      "Indexing s3://EODATA/SMOS/L2SM/MIR_SMUDP2/2023/03/01/SM_OPER_MIR_SMUDP2_20230301T210336_20230301T215649_700_001_1/SM_OPER_MIR_SMUDP2_20230301T210336_20230301T215649_700_001_1.nc\n",
      "Indexing s3://EODATA/SMOS/L2SM/MIR_SMUDP2/2023/03/01/SM_OPER_MIR_SMUDP2_20230301T224339_20230301T233654_700_001_1/SM_OPER_MIR_SMUDP2_20230301T224339_20230301T233654_700_001_1.nc\n",
      "8min 14s ± 0 ns per loop (mean ± std. dev. of 1 run, 1 loop each)\n"
     ]
    }
   ],
   "source": [
    "%%timeit -n 1 -r 1\n",
    "fi.sync(prefix='SMOS/L2SM/MIR_SMUDP2/2023/03/01/')"
   ]
  },
  {
   "cell_type": "markdown",
   "id": "28802f99-dad5-43c2-a67b-b3d98a108e54",
   "metadata": {},
   "source": [
    "Submitting the same prefix once more will omit writing any new indexes:"
   ]
  },
  {
   "cell_type": "code",
   "execution_count": 10,
   "id": "19af527a-f00b-48e9-afe9-51086d7060ac",
   "metadata": {},
   "outputs": [
    {
     "name": "stdout",
     "output_type": "stream",
     "text": [
      "Skipping SMOS/L2SM/MIR_SMUDP2/2023/03/01/SM_OPER_MIR_SMUDP2_20230301T033242_20230301T041728_700_001_1/SM_OPER_MIR_SMUDP2_20230301T033242_20230301T041728_700_001_1.nc, index exists\n",
      "Skipping SMOS/L2SM/MIR_SMUDP2/2023/03/01/SM_OPER_MIR_SMUDP2_20230301T053947_20230301T060606_700_001_1/SM_OPER_MIR_SMUDP2_20230301T053947_20230301T060606_700_001_1.nc, index exists\n",
      "Skipping SMOS/L2SM/MIR_SMUDP2/2023/03/01/SM_OPER_MIR_SMUDP2_20230301T074300_20230301T083612_700_001_1/SM_OPER_MIR_SMUDP2_20230301T074300_20230301T083612_700_001_1.nc, index exists\n",
      "Skipping SMOS/L2SM/MIR_SMUDP2/2023/03/01/SM_OPER_MIR_SMUDP2_20230301T092303_20230301T101617_700_001_1/SM_OPER_MIR_SMUDP2_20230301T092303_20230301T101617_700_001_1.nc, index exists\n",
      "Skipping SMOS/L2SM/MIR_SMUDP2/2023/03/01/SM_OPER_MIR_SMUDP2_20230301T110308_20230301T115622_700_001_1/SM_OPER_MIR_SMUDP2_20230301T110308_20230301T115622_700_001_1.nc, index exists\n",
      "Skipping SMOS/L2SM/MIR_SMUDP2/2023/03/01/SM_OPER_MIR_SMUDP2_20230301T133310_20230301T142630_700_001_1/SM_OPER_MIR_SMUDP2_20230301T133310_20230301T142630_700_001_1.nc, index exists\n",
      "Skipping SMOS/L2SM/MIR_SMUDP2/2023/03/01/SM_OPER_MIR_SMUDP2_20230301T151314_20230301T160633_700_001_1/SM_OPER_MIR_SMUDP2_20230301T151314_20230301T160633_700_001_1.nc, index exists\n",
      "Skipping SMOS/L2SM/MIR_SMUDP2/2023/03/01/SM_OPER_MIR_SMUDP2_20230301T160321_20230301T165636_700_001_1/SM_OPER_MIR_SMUDP2_20230301T160321_20230301T165636_700_001_1.nc, index exists\n",
      "Skipping SMOS/L2SM/MIR_SMUDP2/2023/03/01/SM_OPER_MIR_SMUDP2_20230301T174326_20230301T183641_700_001_1/SM_OPER_MIR_SMUDP2_20230301T174326_20230301T183641_700_001_1.nc, index exists\n",
      "Skipping SMOS/L2SM/MIR_SMUDP2/2023/03/01/SM_OPER_MIR_SMUDP2_20230301T192332_20230301T201645_700_001_1/SM_OPER_MIR_SMUDP2_20230301T192332_20230301T201645_700_001_1.nc, index exists\n",
      "Skipping SMOS/L2SM/MIR_SMUDP2/2023/03/01/SM_OPER_MIR_SMUDP2_20230301T210336_20230301T215649_700_001_1/SM_OPER_MIR_SMUDP2_20230301T210336_20230301T215649_700_001_1.nc, index exists\n",
      "Skipping SMOS/L2SM/MIR_SMUDP2/2023/03/01/SM_OPER_MIR_SMUDP2_20230301T224339_20230301T233654_700_001_1/SM_OPER_MIR_SMUDP2_20230301T224339_20230301T233654_700_001_1.nc, index exists\n",
      "1.43 s ± 0 ns per loop (mean ± std. dev. of 1 run, 1 loop each)\n"
     ]
    }
   ],
   "source": [
    "%%timeit -n 1 -r 1\n",
    "fi.sync(prefix='SMOS/L2SM/MIR_SMUDP2/2023/03/01/')"
   ]
  },
  {
   "cell_type": "code",
   "execution_count": null,
   "id": "26f7d757-42ef-4c5c-8995-335619fdcd57",
   "metadata": {},
   "outputs": [],
   "source": []
  }
 ],
 "metadata": {
  "kernelspec": {
   "display_name": "Python 3 (ipykernel)",
   "language": "python",
   "name": "python3"
  },
  "language_info": {
   "codemirror_mode": {
    "name": "ipython",
    "version": 3
   },
   "file_extension": ".py",
   "mimetype": "text/x-python",
   "name": "python",
   "nbconvert_exporter": "python",
   "pygments_lexer": "ipython3",
   "version": "3.11.6"
  }
 },
 "nbformat": 4,
 "nbformat_minor": 5
}

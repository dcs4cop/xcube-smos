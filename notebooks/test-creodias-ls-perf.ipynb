{
 "cells": [
  {
   "cell_type": "code",
   "execution_count": 5,
   "id": "8f414acb-5429-48ce-9a6a-7f6c2157a37e",
   "metadata": {},
   "outputs": [],
   "source": [
    "import json\n",
    "import fsspec"
   ]
  },
  {
   "cell_type": "code",
   "execution_count": 6,
   "id": "84aef1b6-fb25-4c87-aa3b-af20a8bf0dcb",
   "metadata": {},
   "outputs": [],
   "source": [
    "with open(\"creodias-credentials.json\") as f:\n",
    "    credentials = json.load(f)\n",
    "\n",
    "s3 = fsspec.filesystem(\"s3\", endpoint_url=\"https://s3.cloudferro.com\", **credentials)"
   ]
  },
  {
   "cell_type": "code",
   "execution_count": 7,
   "id": "40beeaf9-d802-4f42-8661-2030add4ea1d",
   "metadata": {},
   "outputs": [
    {
     "data": {
      "text/plain": [
       "['EODATA/C3S',\n",
       " 'EODATA/CAMS',\n",
       " 'EODATA/CEMS',\n",
       " 'EODATA/CLMS',\n",
       " 'EODATA/CMEMS',\n",
       " 'EODATA/Envisat',\n",
       " 'EODATA/Envisat-ASAR',\n",
       " 'EODATA/Global-Mosaics',\n",
       " 'EODATA/Jason-3',\n",
       " 'EODATA/Landsat-5',\n",
       " 'EODATA/Landsat-7',\n",
       " 'EODATA/Landsat-8',\n",
       " 'EODATA/SMOS',\n",
       " 'EODATA/Sentinel-1',\n",
       " 'EODATA/Sentinel-1-COG',\n",
       " 'EODATA/Sentinel-1-RTC',\n",
       " 'EODATA/Sentinel-2',\n",
       " 'EODATA/Sentinel-3',\n",
       " 'EODATA/Sentinel-5P',\n",
       " 'EODATA/Sentinel-6',\n",
       " 'EODATA/auxdata']"
      ]
     },
     "execution_count": 7,
     "metadata": {},
     "output_type": "execute_result"
    }
   ],
   "source": [
    "s3.ls(\"EODATA\")"
   ]
  },
  {
   "cell_type": "code",
   "execution_count": 8,
   "id": "c061d0c8-47fe-401f-a0a6-fdc599b33510",
   "metadata": {},
   "outputs": [
    {
     "data": {
      "text/plain": [
       "['EODATA/SMOS/L1B',\n",
       " 'EODATA/SMOS/L1CL',\n",
       " 'EODATA/SMOS/L1CS',\n",
       " 'EODATA/SMOS/L2OS',\n",
       " 'EODATA/SMOS/L2SM']"
      ]
     },
     "execution_count": 8,
     "metadata": {},
     "output_type": "execute_result"
    }
   ],
   "source": [
    "s3.ls(\"EODATA/SMOS\")"
   ]
  },
  {
   "cell_type": "code",
   "execution_count": 9,
   "id": "fd5b879d-b877-460b-8819-4ab9530bdc32",
   "metadata": {},
   "outputs": [
    {
     "data": {
      "text/plain": [
       "['EODATA/SMOS/L2SM/MIR_SMUDP2']"
      ]
     },
     "execution_count": 9,
     "metadata": {},
     "output_type": "execute_result"
    }
   ],
   "source": [
    "s3.ls(\"EODATA/SMOS/L2SM\")"
   ]
  },
  {
   "cell_type": "code",
   "execution_count": 10,
   "id": "70c0e739-062d-40ce-8b0e-0da1818e0d7a",
   "metadata": {},
   "outputs": [
    {
     "data": {
      "text/plain": [
       "['EODATA/SMOS/L2SM/MIR_SMUDP2/2010',\n",
       " 'EODATA/SMOS/L2SM/MIR_SMUDP2/2011',\n",
       " 'EODATA/SMOS/L2SM/MIR_SMUDP2/2012',\n",
       " 'EODATA/SMOS/L2SM/MIR_SMUDP2/2013',\n",
       " 'EODATA/SMOS/L2SM/MIR_SMUDP2/2014',\n",
       " 'EODATA/SMOS/L2SM/MIR_SMUDP2/2015',\n",
       " 'EODATA/SMOS/L2SM/MIR_SMUDP2/2016',\n",
       " 'EODATA/SMOS/L2SM/MIR_SMUDP2/2017',\n",
       " 'EODATA/SMOS/L2SM/MIR_SMUDP2/2018',\n",
       " 'EODATA/SMOS/L2SM/MIR_SMUDP2/2019',\n",
       " 'EODATA/SMOS/L2SM/MIR_SMUDP2/2020',\n",
       " 'EODATA/SMOS/L2SM/MIR_SMUDP2/2021',\n",
       " 'EODATA/SMOS/L2SM/MIR_SMUDP2/2022',\n",
       " 'EODATA/SMOS/L2SM/MIR_SMUDP2/2023',\n",
       " 'EODATA/SMOS/L2SM/MIR_SMUDP2/2024']"
      ]
     },
     "execution_count": 10,
     "metadata": {},
     "output_type": "execute_result"
    }
   ],
   "source": [
    "s3.ls(\"EODATA/SMOS/L2SM/MIR_SMUDP2\")"
   ]
  },
  {
   "cell_type": "code",
   "execution_count": 11,
   "id": "2417befb-9368-4cc2-b95b-b722b92be6d9",
   "metadata": {},
   "outputs": [
    {
     "data": {
      "text/plain": [
       "['EODATA/SMOS/L2SM/MIR_SMUDP2/2022/',\n",
       " 'EODATA/SMOS/L2SM/MIR_SMUDP2/2022/01',\n",
       " 'EODATA/SMOS/L2SM/MIR_SMUDP2/2022/02',\n",
       " 'EODATA/SMOS/L2SM/MIR_SMUDP2/2022/03',\n",
       " 'EODATA/SMOS/L2SM/MIR_SMUDP2/2022/04',\n",
       " 'EODATA/SMOS/L2SM/MIR_SMUDP2/2022/05',\n",
       " 'EODATA/SMOS/L2SM/MIR_SMUDP2/2022/06',\n",
       " 'EODATA/SMOS/L2SM/MIR_SMUDP2/2022/07',\n",
       " 'EODATA/SMOS/L2SM/MIR_SMUDP2/2022/08',\n",
       " 'EODATA/SMOS/L2SM/MIR_SMUDP2/2022/09',\n",
       " 'EODATA/SMOS/L2SM/MIR_SMUDP2/2022/10',\n",
       " 'EODATA/SMOS/L2SM/MIR_SMUDP2/2022/11',\n",
       " 'EODATA/SMOS/L2SM/MIR_SMUDP2/2022/12']"
      ]
     },
     "execution_count": 11,
     "metadata": {},
     "output_type": "execute_result"
    }
   ],
   "source": [
    "s3.ls(\"EODATA/SMOS/L2SM/MIR_SMUDP2/2022\")"
   ]
  },
  {
   "cell_type": "code",
   "execution_count": null,
   "id": "7e0b7323-b3df-4105-9afc-3d4e2897f995",
   "metadata": {},
   "outputs": [],
   "source": [
    "s3.ls(\"EODATA/SMOS/L2SM/MIR_SMUDP2/2022/05\")"
   ]
  },
  {
   "cell_type": "code",
   "execution_count": null,
   "id": "2c221ff3-0826-4aa5-922f-e690199b37c7",
   "metadata": {},
   "outputs": [],
   "source": [
    "s3.ls(\"EODATA/SMOS/L2SM/MIR_SMUDP2/2022/05/13\")"
   ]
  },
  {
   "cell_type": "code",
   "execution_count": 3,
   "id": "430a2a12-6c43-491e-b1b6-22107ec07d62",
   "metadata": {},
   "outputs": [
    {
     "data": {
      "text/plain": [
       "[]"
      ]
     },
     "metadata": {},
     "output_type": "display_data"
    },
    {
     "data": {
      "text/plain": [
       "['SM_OPER_MIR_SMUDP2_20220513T002841_20220513T012154_700_001_1.nc']"
      ]
     },
     "metadata": {},
     "output_type": "display_data"
    },
    {
     "data": {
      "text/plain": [
       "['SM_OPER_MIR_SMUDP2_20220513T011837_20220513T021157_700_001_1.nc']"
      ]
     },
     "metadata": {},
     "output_type": "display_data"
    },
    {
     "data": {
      "text/plain": [
       "['SM_OPER_MIR_SMUDP2_20220513T020846_20220513T030158_700_001_1.nc']"
      ]
     },
     "metadata": {},
     "output_type": "display_data"
    },
    {
     "data": {
      "text/plain": [
       "['SM_OPER_MIR_SMUDP2_20220513T025840_20220513T035200_700_001_1.nc']"
      ]
     },
     "metadata": {},
     "output_type": "display_data"
    },
    {
     "data": {
      "text/plain": [
       "['SM_OPER_MIR_SMUDP2_20220513T034848_20220513T044203_700_001_1.nc']"
      ]
     },
     "metadata": {},
     "output_type": "display_data"
    },
    {
     "data": {
      "text/plain": [
       "['SM_OPER_MIR_SMUDP2_20220513T043846_20220513T053205_700_001_1.nc']"
      ]
     },
     "metadata": {},
     "output_type": "display_data"
    },
    {
     "data": {
      "text/plain": [
       "['SM_OPER_MIR_SMUDP2_20220513T052854_20220513T062208_700_001_1.nc']"
      ]
     },
     "metadata": {},
     "output_type": "display_data"
    },
    {
     "data": {
      "text/plain": [
       "['SM_OPER_MIR_SMUDP2_20220513T061850_20220513T071210_700_001_1.nc']"
      ]
     },
     "metadata": {},
     "output_type": "display_data"
    },
    {
     "data": {
      "text/plain": [
       "['SM_OPER_MIR_SMUDP2_20220513T070858_20220513T080213_700_001_1.nc']"
      ]
     },
     "metadata": {},
     "output_type": "display_data"
    },
    {
     "data": {
      "text/plain": [
       "['SM_OPER_MIR_SMUDP2_20220513T075854_20220513T085214_700_001_1.nc']"
      ]
     },
     "metadata": {},
     "output_type": "display_data"
    },
    {
     "data": {
      "text/plain": [
       "['SM_OPER_MIR_SMUDP2_20220513T084902_20220513T094216_700_001_1.nc']"
      ]
     },
     "metadata": {},
     "output_type": "display_data"
    },
    {
     "data": {
      "text/plain": [
       "['SM_OPER_MIR_SMUDP2_20220513T093858_20220513T103219_700_001_1.nc']"
      ]
     },
     "metadata": {},
     "output_type": "display_data"
    },
    {
     "data": {
      "text/plain": [
       "['SM_OPER_MIR_SMUDP2_20220513T102907_20220513T112221_700_001_1.nc']"
      ]
     },
     "metadata": {},
     "output_type": "display_data"
    },
    {
     "data": {
      "text/plain": [
       "['SM_OPER_MIR_SMUDP2_20220513T111904_20220513T121224_700_001_1.nc']"
      ]
     },
     "metadata": {},
     "output_type": "display_data"
    },
    {
     "data": {
      "text/plain": [
       "['SM_OPER_MIR_SMUDP2_20220513T120911_20220513T130226_700_001_1.nc']"
      ]
     },
     "metadata": {},
     "output_type": "display_data"
    },
    {
     "data": {
      "text/plain": [
       "['SM_OPER_MIR_SMUDP2_20220513T125909_20220513T135228_700_001_1.nc']"
      ]
     },
     "metadata": {},
     "output_type": "display_data"
    },
    {
     "data": {
      "text/plain": [
       "['SM_OPER_MIR_SMUDP2_20220513T134917_20220513T144231_700_001_1.nc']"
      ]
     },
     "metadata": {},
     "output_type": "display_data"
    },
    {
     "data": {
      "text/plain": [
       "['SM_OPER_MIR_SMUDP2_20220513T143913_20220513T153233_700_001_1.nc']"
      ]
     },
     "metadata": {},
     "output_type": "display_data"
    },
    {
     "data": {
      "text/plain": [
       "['SM_OPER_MIR_SMUDP2_20220513T152921_20220513T162235_700_001_1.nc']"
      ]
     },
     "metadata": {},
     "output_type": "display_data"
    },
    {
     "data": {
      "text/plain": [
       "['SM_OPER_MIR_SMUDP2_20220513T161918_20220513T171237_700_001_1.nc']"
      ]
     },
     "metadata": {},
     "output_type": "display_data"
    },
    {
     "data": {
      "text/plain": [
       "['SM_OPER_MIR_SMUDP2_20220513T170925_20220513T180239_700_001_1.nc']"
      ]
     },
     "metadata": {},
     "output_type": "display_data"
    },
    {
     "data": {
      "text/plain": [
       "['SM_OPER_MIR_SMUDP2_20220513T175922_20220513T185242_700_001_1.nc']"
      ]
     },
     "metadata": {},
     "output_type": "display_data"
    },
    {
     "data": {
      "text/plain": [
       "['SM_OPER_MIR_SMUDP2_20220513T184931_20220513T194244_700_001_1.nc']"
      ]
     },
     "metadata": {},
     "output_type": "display_data"
    },
    {
     "data": {
      "text/plain": [
       "['SM_OPER_MIR_SMUDP2_20220513T193927_20220513T203247_700_001_1.nc']"
      ]
     },
     "metadata": {},
     "output_type": "display_data"
    },
    {
     "data": {
      "text/plain": [
       "['SM_OPER_MIR_SMUDP2_20220513T202936_20220513T212249_700_001_1.nc']"
      ]
     },
     "metadata": {},
     "output_type": "display_data"
    },
    {
     "data": {
      "text/plain": [
       "['SM_OPER_MIR_SMUDP2_20220513T211931_20220513T221250_700_001_1.nc']"
      ]
     },
     "metadata": {},
     "output_type": "display_data"
    },
    {
     "data": {
      "text/plain": [
       "['SM_OPER_MIR_SMUDP2_20220513T220938_20220513T230253_700_001_1.nc']"
      ]
     },
     "metadata": {},
     "output_type": "display_data"
    },
    {
     "data": {
      "text/plain": [
       "['SM_OPER_MIR_SMUDP2_20220513T225935_20220513T235255_700_001_1.nc']"
      ]
     },
     "metadata": {},
     "output_type": "display_data"
    },
    {
     "data": {
      "text/plain": [
       "['SM_OPER_MIR_SMUDP2_20220513T234944_20220514T004258_700_001_1.nc']"
      ]
     },
     "metadata": {},
     "output_type": "display_data"
    }
   ],
   "source": [
    "for root, _, files in s3.walk(\"EODATA/SMOS/L2SM/MIR_SMUDP2/2022/05/13\"):\n",
    "    display([f for f in files if f])"
   ]
  },
  {
   "cell_type": "code",
   "execution_count": 4,
   "id": "03ec9bd7-3560-4d93-9c68-3311ee3051e3",
   "metadata": {},
   "outputs": [
    {
     "data": {
      "text/plain": [
       "[]"
      ]
     },
     "metadata": {},
     "output_type": "display_data"
    },
    {
     "data": {
      "text/plain": [
       "['SM_OPER_MIR_SMUDP2_20220101T001713_20220101T011034_700_001_1.nc']"
      ]
     },
     "metadata": {},
     "output_type": "display_data"
    },
    {
     "data": {
      "text/plain": [
       "['SM_OPER_MIR_SMUDP2_20220101T010723_20220101T020036_700_001_1.nc']"
      ]
     },
     "metadata": {},
     "output_type": "display_data"
    },
    {
     "data": {
      "text/plain": [
       "['SM_OPER_MIR_SMUDP2_20220101T015719_20220101T025039_700_001_1.nc']"
      ]
     },
     "metadata": {},
     "output_type": "display_data"
    },
    {
     "data": {
      "text/plain": [
       "['SM_OPER_MIR_SMUDP2_20220101T024727_20220101T034040_700_001_1.nc']"
      ]
     },
     "metadata": {},
     "output_type": "display_data"
    },
    {
     "data": {
      "text/plain": [
       "['SM_OPER_MIR_SMUDP2_20220101T033722_20220101T043043_700_001_1.nc']"
      ]
     },
     "metadata": {},
     "output_type": "display_data"
    },
    {
     "data": {
      "text/plain": [
       "['SM_OPER_MIR_SMUDP2_20220101T042730_20220101T052045_700_001_1.nc']"
      ]
     },
     "metadata": {},
     "output_type": "display_data"
    },
    {
     "data": {
      "text/plain": [
       "['SM_OPER_MIR_SMUDP2_20220101T051728_20220101T061047_700_001_1.nc']"
      ]
     },
     "metadata": {},
     "output_type": "display_data"
    },
    {
     "data": {
      "text/plain": [
       "['SM_OPER_MIR_SMUDP2_20220101T060736_20220101T070050_700_001_1.nc']"
      ]
     },
     "metadata": {},
     "output_type": "display_data"
    },
    {
     "data": {
      "text/plain": [
       "['SM_OPER_MIR_SMUDP2_20220101T065733_20220101T075052_700_001_1.nc']"
      ]
     },
     "metadata": {},
     "output_type": "display_data"
    },
    {
     "data": {
      "text/plain": [
       "['SM_OPER_MIR_SMUDP2_20220101T074741_20220101T084054_700_001_1.nc']"
      ]
     },
     "metadata": {},
     "output_type": "display_data"
    },
    {
     "data": {
      "text/plain": [
       "['SM_OPER_MIR_SMUDP2_20220101T083737_20220101T093056_700_001_1.nc']"
      ]
     },
     "metadata": {},
     "output_type": "display_data"
    },
    {
     "data": {
      "text/plain": [
       "['SM_OPER_MIR_SMUDP2_20220101T092744_20220101T102058_700_001_1.nc']"
      ]
     },
     "metadata": {},
     "output_type": "display_data"
    },
    {
     "data": {
      "text/plain": [
       "['SM_OPER_MIR_SMUDP2_20220101T101740_20220101T111101_700_001_1.nc']"
      ]
     },
     "metadata": {},
     "output_type": "display_data"
    },
    {
     "data": {
      "text/plain": [
       "['SM_OPER_MIR_SMUDP2_20220101T110750_20220101T120103_700_001_1.nc']"
      ]
     },
     "metadata": {},
     "output_type": "display_data"
    },
    {
     "data": {
      "text/plain": [
       "['SM_OPER_MIR_SMUDP2_20220101T115745_20220101T125106_700_001_1.nc']"
      ]
     },
     "metadata": {},
     "output_type": "display_data"
    },
    {
     "data": {
      "text/plain": [
       "['SM_OPER_MIR_SMUDP2_20220101T124755_20220101T134108_700_001_1.nc']"
      ]
     },
     "metadata": {},
     "output_type": "display_data"
    },
    {
     "data": {
      "text/plain": [
       "['SM_OPER_MIR_SMUDP2_20220101T133751_20220101T143109_700_001_1.nc']"
      ]
     },
     "metadata": {},
     "output_type": "display_data"
    },
    {
     "data": {
      "text/plain": [
       "['SM_OPER_MIR_SMUDP2_20220101T142758_20220101T152112_700_001_1.nc']"
      ]
     },
     "metadata": {},
     "output_type": "display_data"
    },
    {
     "data": {
      "text/plain": [
       "['SM_OPER_MIR_SMUDP2_20220101T151754_20220101T161114_700_001_1.nc']"
      ]
     },
     "metadata": {},
     "output_type": "display_data"
    },
    {
     "data": {
      "text/plain": [
       "['SM_OPER_MIR_SMUDP2_20220101T160802_20220101T170117_700_001_1.nc']"
      ]
     },
     "metadata": {},
     "output_type": "display_data"
    },
    {
     "data": {
      "text/plain": [
       "['SM_OPER_MIR_SMUDP2_20220101T165759_20220101T175119_700_001_1.nc']"
      ]
     },
     "metadata": {},
     "output_type": "display_data"
    },
    {
     "data": {
      "text/plain": [
       "['SM_OPER_MIR_SMUDP2_20220101T174807_20220101T184122_700_001_1.nc']"
      ]
     },
     "metadata": {},
     "output_type": "display_data"
    },
    {
     "data": {
      "text/plain": [
       "['SM_OPER_MIR_SMUDP2_20220101T183805_20220101T193123_700_001_1.nc']"
      ]
     },
     "metadata": {},
     "output_type": "display_data"
    },
    {
     "data": {
      "text/plain": [
       "['SM_OPER_MIR_SMUDP2_20220101T192811_20220101T202125_700_001_1.nc']"
      ]
     },
     "metadata": {},
     "output_type": "display_data"
    },
    {
     "data": {
      "text/plain": [
       "['SM_OPER_MIR_SMUDP2_20220101T201809_20220101T211128_700_001_1.nc']"
      ]
     },
     "metadata": {},
     "output_type": "display_data"
    },
    {
     "data": {
      "text/plain": [
       "['SM_OPER_MIR_SMUDP2_20220101T210817_20220101T220130_700_001_1.nc']"
      ]
     },
     "metadata": {},
     "output_type": "display_data"
    },
    {
     "data": {
      "text/plain": [
       "['SM_OPER_MIR_SMUDP2_20220101T215812_20220101T225133_700_001_1.nc']"
      ]
     },
     "metadata": {},
     "output_type": "display_data"
    },
    {
     "data": {
      "text/plain": [
       "['SM_OPER_MIR_SMUDP2_20220101T224822_20220101T234135_700_001_1.nc']"
      ]
     },
     "metadata": {},
     "output_type": "display_data"
    },
    {
     "data": {
      "text/plain": [
       "['SM_OPER_MIR_SMUDP2_20220101T233818_20220102T003137_700_001_1.nc']"
      ]
     },
     "metadata": {},
     "output_type": "display_data"
    }
   ],
   "source": [
    "for root, _, files in s3.walk(\"EODATA/SMOS/L2SM/MIR_SMUDP2/2022/01/01\"):\n",
    "    display([f for f in files if f])"
   ]
  },
  {
   "cell_type": "code",
   "execution_count": null,
   "id": "4994f478-6075-4632-8711-e2a2fc4043c5",
   "metadata": {},
   "outputs": [],
   "source": []
  }
 ],
 "metadata": {
  "kernelspec": {
   "display_name": "Python 3 (ipykernel)",
   "language": "python",
   "name": "python3"
  },
  "language_info": {
   "codemirror_mode": {
    "name": "ipython",
    "version": 3
   },
   "file_extension": ".py",
   "mimetype": "text/x-python",
   "name": "python",
   "nbconvert_exporter": "python",
   "pygments_lexer": "ipython3",
   "version": "3.11.8"
  }
 },
 "nbformat": 4,
 "nbformat_minor": 5
}

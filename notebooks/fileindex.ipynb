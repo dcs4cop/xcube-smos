{
 "cells": [
  {
   "cell_type": "code",
   "execution_count": 1,
   "id": "ba936c93-044f-42ec-8772-4187a22cc9e3",
   "metadata": {},
   "outputs": [],
   "source": [
    "from xcube_smos.fileindex import FileIndex\n",
    "import json"
   ]
  },
  {
   "cell_type": "code",
   "execution_count": 2,
   "id": "1e8761ed-dd01-4ce4-a15d-0a603e1f7dbc",
   "metadata": {},
   "outputs": [],
   "source": [
    "with open(\"creodias-credentials.json\") as f:\n",
    "    credentials = json.load(f)\n",
    "\n",
    "s3_options = dict(\n",
    "    **credentials,\n",
    "    endpoint_url=\"https://s3.cloudferro.com\", \n",
    ")  "
   ]
  },
  {
   "cell_type": "code",
   "execution_count": 3,
   "id": "45072a72-38cb-413a-8497-586b936c43cc",
   "metadata": {},
   "outputs": [],
   "source": [
    "fi = FileIndex.create(\"index2\", \n",
    "                      s3_bucket=\"EODATA\", \n",
    "                      s3_options=s3_options)"
   ]
  },
  {
   "cell_type": "code",
   "execution_count": 4,
   "id": "791d7dcd-9162-466e-93b0-45da8daf4da5",
   "metadata": {},
   "outputs": [],
   "source": [
    "fi = FileIndex.open(\"index2\")"
   ]
  },
  {
   "cell_type": "code",
   "execution_count": 5,
   "id": "95099131-993e-41ac-b07f-b852ff615cdc",
   "metadata": {},
   "outputs": [
    {
     "data": {
      "text/plain": [
       "'index2'"
      ]
     },
     "execution_count": 5,
     "metadata": {},
     "output_type": "execute_result"
    }
   ],
   "source": [
    "fi.index_path"
   ]
  },
  {
   "cell_type": "code",
   "execution_count": 6,
   "id": "f2d1b9e4-098e-4999-91a4-b877b29e80dc",
   "metadata": {},
   "outputs": [
    {
     "data": {
      "text/plain": [
       "{'version': 1,\n",
       " 's3_bucket': 'EODATA',\n",
       " 's3_options': {'key': 'VMFFHGYHNTHJYVIQQEVH',\n",
       "  'secret': 'zhzLydIsVqUwlnBmRzROWZditBQJjpsqfFDZssRn',\n",
       "  'endpoint_url': 'https://s3.cloudferro.com'},\n",
       " 'product_types': {'SM': 'SMOS/L2SM/MIR_SMUDP2', 'OS': 'SMOS/L2OS/MIR_OSUDP2'}}"
      ]
     },
     "execution_count": 6,
     "metadata": {},
     "output_type": "execute_result"
    }
   ],
   "source": [
    "fi.index_config"
   ]
  },
  {
   "cell_type": "code",
   "execution_count": null,
   "id": "6d7bb164-5959-4fc9-bd74-3acff2683b12",
   "metadata": {},
   "outputs": [],
   "source": [
    "%%timeit -n 1 -r 1\n",
    "fi.sync(100)"
   ]
  },
  {
   "cell_type": "code",
   "execution_count": null,
   "id": "e12ee988-b114-47f1-ab05-f01a9ff36469",
   "metadata": {},
   "outputs": [],
   "source": []
  }
 ],
 "metadata": {
  "kernelspec": {
   "display_name": "Python 3 (ipykernel)",
   "language": "python",
   "name": "python3"
  },
  "language_info": {
   "codemirror_mode": {
    "name": "ipython",
    "version": 3
   },
   "file_extension": ".py",
   "mimetype": "text/x-python",
   "name": "python",
   "nbconvert_exporter": "python",
   "pygments_lexer": "ipython3",
   "version": "3.9.16"
  }
 },
 "nbformat": 4,
 "nbformat_minor": 5
}
